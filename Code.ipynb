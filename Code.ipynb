{
 "cells": [
  {
   "cell_type": "code",
   "execution_count": 159,
   "metadata": {},
   "outputs": [],
   "source": [
    "import gensim\n",
    "import jgraph as ig\n",
    "\n",
    "import pandas as pd\n",
    "import numpy as np\n",
    "import networkx as nx\n",
    "\n",
    "import numpy as np\n",
    "import matplotlib.pyplot as plt\n",
    "\n",
    "import plotly.plotly as py\n",
    "from plotly.graph_objs import *\n",
    "import matplotlib.pyplot as pl\n",
    "import json\n",
    "import urllib.request as urllib2\n",
    "from mpl_toolkits.mplot3d import Axes3D\n",
    "from scipy.spatial.distance import pdist,correlation,cdist\n",
    "\n",
    "from sklearn.metrics.pairwise import pairwise_distances\n"
   ]
  },
  {
   "cell_type": "markdown",
   "metadata": {},
   "source": [
    "## Data Preprocessing"
   ]
  },
  {
   "cell_type": "code",
   "execution_count": 239,
   "metadata": {},
   "outputs": [
    {
     "name": "stderr",
     "output_type": "stream",
     "text": [
      "C:\\Users\\Arun\\Anaconda3\\lib\\site-packages\\IPython\\core\\interactiveshell.py:2717: DtypeWarning:\n",
      "\n",
      "Columns (5) have mixed types. Specify dtype option on import or set low_memory=False.\n",
      "\n"
     ]
    }
   ],
   "source": [
    "dataset = pd.read_csv('data.csv',sep=',')\n"
   ]
  },
  {
   "cell_type": "code",
   "execution_count": 6,
   "metadata": {},
   "outputs": [
    {
     "data": {
      "text/plain": [
       "Index(['applicant_uid', 'person_uid', 'company_uid', 'ats', 'applicant_ats_id',\n",
       "       'photo_url', 'applicant_last_activity', 'application_uid',\n",
       "       'application_ats_id', 'comments', 'cover_letter', 'current_stage',\n",
       "       'gender', 'hired_date', 'application_last_activity', 'race',\n",
       "       'rejected_date', 'rejection_reason_name', 'rejection_reason_type',\n",
       "       'sent_date', 'source', 'sourced', 'source_type', 'status',\n",
       "       'veteran_status', 'visa_status', 'withdrew_date', 'job_uid',\n",
       "       'job_ats_id', 'bonus', 'brief_description', 'category', 'closed_date',\n",
       "       'created_date', 'full_description', 'is_private', 'language',\n",
       "       'job_last_activity', 'notes', 'opened_date', 'posting_type',\n",
       "       'put_on_hold_date', 'referral_bonus', 'region', 'source.1', 'status.1',\n",
       "       'subsidiary_name', 'title', 'type'],\n",
       "      dtype='object')"
      ]
     },
     "execution_count": 6,
     "metadata": {},
     "output_type": "execute_result"
    }
   ],
   "source": [
    "dataset.columns"
   ]
  },
  {
   "cell_type": "code",
   "execution_count": 16,
   "metadata": {},
   "outputs": [
    {
     "data": {
      "text/plain": [
       "20762"
      ]
     },
     "execution_count": 16,
     "metadata": {},
     "output_type": "execute_result"
    }
   ],
   "source": [
    "#size of data\n",
    "size= len(dataset)\n",
    "size"
   ]
  },
  {
   "cell_type": "code",
   "execution_count": null,
   "metadata": {
    "collapsed": true
   },
   "outputs": [],
   "source": []
  },
  {
   "cell_type": "code",
   "execution_count": 9,
   "metadata": {},
   "outputs": [
    {
     "data": {
      "text/plain": [
       "applicant_uid                False\n",
       "person_uid                    True\n",
       "company_uid                  False\n",
       "ats                          False\n",
       "applicant_ats_id             False\n",
       "photo_url                     True\n",
       "applicant_last_activity       True\n",
       "application_uid              False\n",
       "application_ats_id           False\n",
       "comments                      True\n",
       "cover_letter                  True\n",
       "current_stage                 True\n",
       "gender                        True\n",
       "hired_date                    True\n",
       "application_last_activity    False\n",
       "race                          True\n",
       "rejected_date                 True\n",
       "rejection_reason_name         True\n",
       "rejection_reason_type         True\n",
       "sent_date                    False\n",
       "source                        True\n",
       "sourced                       True\n",
       "source_type                   True\n",
       "status                       False\n",
       "veteran_status                True\n",
       "visa_status                   True\n",
       "withdrew_date                 True\n",
       "job_uid                      False\n",
       "job_ats_id                   False\n",
       "bonus                         True\n",
       "brief_description             True\n",
       "category                      True\n",
       "closed_date                   True\n",
       "created_date                  True\n",
       "full_description              True\n",
       "is_private                   False\n",
       "language                      True\n",
       "job_last_activity             True\n",
       "notes                         True\n",
       "opened_date                   True\n",
       "posting_type                  True\n",
       "put_on_hold_date              True\n",
       "referral_bonus                True\n",
       "region                        True\n",
       "source.1                      True\n",
       "status.1                     False\n",
       "subsidiary_name               True\n",
       "title                        False\n",
       "type                          True\n",
       "dtype: bool"
      ]
     },
     "execution_count": 9,
     "metadata": {},
     "output_type": "execute_result"
    }
   ],
   "source": [
    "#Which column has Nan\n",
    "pd.isnull(dataset).sum() > 0\n",
    "    "
   ]
  },
  {
   "cell_type": "code",
   "execution_count": 674,
   "metadata": {},
   "outputs": [],
   "source": [
    "Count_vals= dataset.count()\n",
    "\n",
    "Count_vals = Count_vals.to_frame()"
   ]
  },
  {
   "cell_type": "markdown",
   "metadata": {},
   "source": []
  },
  {
   "cell_type": "code",
   "execution_count": 41,
   "metadata": {},
   "outputs": [
    {
     "data": {
      "image/png": "[encoded data removed]",
      "text/plain": [
       "<matplotlib.figure.Figure at 0x1dd9b36d2b0>"
      ]
     },
     "metadata": {},
     "output_type": "display_data"
    }
   ],
   "source": [
    "#Count plot for columns\n",
    "Count_vals.plot.bar()\n",
    "plt.show()"
   ]
  },
  {
   "cell_type": "code",
   "execution_count": null,
   "metadata": {},
   "outputs": [],
   "source": []
  },
  {
   "cell_type": "code",
   "execution_count": 240,
   "metadata": {},
   "outputs": [],
   "source": [
    "#Intial feature map and plans\n",
    "\"\"\"\n",
    "Features to use\n",
    "'applicant_uid'\n",
    "'title'\n",
    "\n",
    "\"\"\"\n",
    "\"\"\"\n",
    "Others:\n",
    "'cover_letter'- 'full_description' - Similarity\n",
    "\"\"\"\n",
    "\n",
    "\"\"\"\n",
    "Drop:\n",
    "'photo_url'\n",
    "'application_uid'\n",
    "'application_ats_id'\n",
    "'gender',\n",
    "'race',\n",
    "'rejected_date', 'rejection_reason_name', 'rejection_reason_type',\n",
    "'sourced', 'source_type', 'status',\n",
    "'veteran_status', 'visa_status', 'withdrew_date', 'job_uid',\n",
    "'job_ats_id', 'bonus', 'brief_description', 'category', 'closed_date',\n",
    "'created_date', 'full_description', 'is_private', 'language',\n",
    "'job_last_activity', 'notes', 'opened_date', 'posting_type',\n",
    "'put_on_hold_date', 'referral_bonus', 'region', 'source.1', 'status.1',\n",
    "'subsidiary_name', 'type'\n",
    "\n",
    "\"\"\"\n"
   ]
  },
  {
   "cell_type": "code",
   "execution_count": null,
   "metadata": {
    "collapsed": true
   },
   "outputs": [],
   "source": [
    "#dropping columns\n",
    "\n",
    "dataset_copy = dataset.drop(['photo_url',\n",
    "'application_uid',\n",
    "'application_ats_id',\n",
    "'gender',\n",
    "'race',\n",
    "'rejected_date', 'rejection_reason_name', 'rejection_reason_type',\n",
    "'sourced', 'source_type', 'status',\n",
    "'veteran_status', 'visa_status', 'withdrew_date',\n",
    "'job_ats_id', 'bonus', 'brief_description', 'category', 'closed_date',\n",
    "'created_date', 'full_description', 'is_private', 'language',\n",
    "'job_last_activity', 'notes', 'opened_date', 'posting_type',\n",
    "'put_on_hold_date', 'referral_bonus', 'region', 'source.1', 'status.1',\n",
    "'subsidiary_name', 'type'],axis=1)\n",
    "\n",
    "\n"
   ]
  },
  {
   "cell_type": "code",
   "execution_count": 45,
   "metadata": {},
   "outputs": [
    {
     "data": {
      "text/plain": [
       "Index(['applicant_uid', 'person_uid', 'company_uid', 'ats', 'applicant_ats_id',\n",
       "       'applicant_last_activity', 'comments', 'cover_letter', 'current_stage',\n",
       "       'hired_date', 'application_last_activity', 'sent_date', 'source',\n",
       "       'title'],\n",
       "      dtype='object')"
      ]
     },
     "execution_count": 45,
     "metadata": {},
     "output_type": "execute_result"
    }
   ],
   "source": [
    "dataset.columns"
   ]
  },
  {
   "cell_type": "code",
   "execution_count": 241,
   "metadata": {},
   "outputs": [],
   "source": [
    "dataset_copy = dataset_copy.drop(['person_uid','ats','applicant_ats_id','applicant_last_activity', 'comments', 'cover_letter', 'current_stage',\n",
    "       'hired_date', 'application_last_activity'],axis=1)"
   ]
  },
  {
   "cell_type": "code",
   "execution_count": 55,
   "metadata": {
    "collapsed": true
   },
   "outputs": [],
   "source": [
    "data = dataset.set_index(['applicant_uid'])"
   ]
  },
  {
   "cell_type": "markdown",
   "metadata": {},
   "source": [
    "#  Graph Visualization"
   ]
  },
  {
   "cell_type": "code",
   "execution_count": 759,
   "metadata": {},
   "outputs": [],
   "source": [
    "k={}\n",
    "for index,row in data.iterrows():\n",
    "    k[index] = row['title']\n",
    " "
   ]
  },
  {
   "cell_type": "code",
   "execution_count": 771,
   "metadata": {},
   "outputs": [],
   "source": [
    "\n",
    "#Graph visualization\n",
    "G=nx.Graph()\n",
    "G.add_nodes_from(list(k.keys()))"
   ]
  },
  {
   "cell_type": "code",
   "execution_count": 772,
   "metadata": {},
   "outputs": [
    {
     "data": {
      "text/plain": [
       "[('\\\\x06c63848c7800000c01734ff', {'attribute': 'value'}),\n",
       " ('\\\\x06c63846d0400000c0173314', {}),\n",
       " ('\\\\x06c6386d15800000c0174aa5', {}),\n",
       " ('\\\\x06c638ba72800000c0178058', {}),\n",
       " ('\\\\x06c638a1e1000000c0177180', {}),\n",
       " ('\\\\x06c637b100800000c016d0e5', {}),\n",
       " ('\\\\x06c63a1e52400000c018654e', {}),\n",
       " ('\\\\x06c63a325f800000c01871e3', {}),\n",
       " ('\\\\x06c63a5e1a000000c0188eab', {}),\n",
       " ('\\\\x06c63aa31f400000c018bd95', {}),\n",
       " ('\\\\x06c63b1ae6400000c01908f3', {}),\n",
       " ('\\\\x06c63b81f3400000c0194ea4', {}),\n",
       " ('\\\\x06c63bb096000000c0196fd6', {}),\n",
       " ('\\\\x06c63bc82f400000c0197e12', {}),\n",
       " ('\\\\x06c63c709d800000c019e5e6', {}),\n",
       " ('\\\\x06c63c2e08800000c019bd74', {}),\n",
       " ('\\\\x06c63c5a29c00000c019da9b', {}),\n",
       " ('\\\\x06c63c78ce400000c019ee93', {}),\n",
       " ('\\\\x06c63ca9f8800000c01a0d04', {}),\n",
       " ('\\\\x06c63cbd81000000c01a19b4', {}),\n",
       " ('\\\\x06c63ce796000000c01a337f', {}),\n",
       " ('\\\\x06c63e035cc00000c01aebbf', {}),\n",
       " ('\\\\x06c63e35f8c00000c01b0e9f', {}),\n",
       " ('\\\\x06c63e4bafc00000c01b1d17', {}),\n",
       " ('\\\\x06c63e57fd000000c01b2207', {}),\n",
       " ('\\\\x06c63e48fc800000c01b1a43', {}),\n",
       " ('\\\\x06c63e7b62400000c01b3deb', {}),\n",
       " ('\\\\x06c63e7bea400000c01b3e7d', {}),\n",
       " ('\\\\x06c63ea12ac00000c01b55b3', {}),\n",
       " ('\\\\x06c63eb9de800000c01b6732', {}),\n",
       " ('\\\\x06c63eb924000000c01b6679', {}),\n",
       " ('\\\\x06c63ecd77400000c01b73da', {}),\n",
       " ('\\\\x06c63f335c400000c01bb755', {}),\n",
       " ('\\\\x06c63f339c400000c01bb79d', {}),\n",
       " ('\\\\x06c63f324a400000c01bb62b', {}),\n",
       " ('\\\\x06c63f32fec00000c01bb700', {}),\n",
       " ('\\\\x06c63f31abc00000c01bb575', {}),\n",
       " ('\\\\x06c63f35df400000c01bb9ab', {}),\n",
       " ('\\\\x06c63f467bc00000c01bc4b6', {}),\n",
       " ('\\\\x06c63f65e2400000c01bdd54', {}),\n",
       " ('\\\\x06c63f4797c00000c01bc5db', {}),\n",
       " ('\\\\x06c63f61d9800000c01bd8b5', {}),\n",
       " ('\\\\x06c63f466b800000c01bc493', {}),\n",
       " ('\\\\x06c63f5c6e000000c01bd352', {}),\n",
       " ('\\\\x06c63f70e7000000c01be0ac', {}),\n",
       " ('\\\\x06c63f5886400000c01bcf60', {}),\n",
       " ('\\\\x06c63f5da1400000c01bd443', {}),\n",
       " ('\\\\x06c63f5feb800000c01bd69d', {}),\n",
       " ('\\\\x06c63f64b9400000c01bdc09', {}),\n",
       " ('\\\\x06c63f726d400000c01be231', {}),\n",
       " ('\\\\x06c63f72fc800000c01be2d2', {}),\n",
       " ('\\\\x06c63f920c400000c01bf9fe', {}),\n",
       " ('\\\\x06c63fa7ce400000c01c07ce', {}),\n",
       " ('\\\\x06c63fa174c00000c01c00fd', {}),\n",
       " ('\\\\x06c63fb1fa000000c01c0a6c', {}),\n",
       " ('\\\\x06c63fb330800000c01c0bcc', {}),\n",
       " ('\\\\x06c63fb787000000c01c100c', {}),\n",
       " ('\\\\x06c63f78e7400000c01be901', {}),\n",
       " ('\\\\x06c63f79e1400000c01bea1a', {}),\n",
       " ('\\\\x06c63f87adc00000c01bef4a', {}),\n",
       " ('\\\\x06c63f9164000000c01bf943', {}),\n",
       " ('\\\\x06c63f9f15c00000c01bfe88', {}),\n",
       " ('\\\\x06c63f8c17800000c01bf3a0', {}),\n",
       " ('\\\\x06c63fbe73000000c01c173c', {}),\n",
       " ('\\\\x06c63fa8ee400000c01c0915', {}),\n",
       " ('\\\\x06c63f9f81800000c01bfef5', {}),\n",
       " ('\\\\x06c63fa163000000c01c00df', {}),\n",
       " ('\\\\x06c63fa16f400000c01c00f6', {}),\n",
       " ('\\\\x06c63fa361800000c01c02e0', {}),\n",
       " ('\\\\x06c63fb414000000c01c0cd1', {}),\n",
       " ('\\\\x06c63f778e400000c01be75b', {}),\n",
       " ('\\\\x06c63f7b89000000c01bebfb', {}),\n",
       " ('\\\\x06c63f9163000000c01bf93f', {}),\n",
       " ('\\\\x06c63fb20f400000c01c0a7f', {}),\n",
       " ('\\\\x06c63f7897c00000c01be8a3', {}),\n",
       " ('\\\\x06c63f8748c00000c01beed1', {}),\n",
       " ('\\\\x06c63f888a000000c01bf04b', {}),\n",
       " ('\\\\x06c63fb2ac800000c01c0b36', {}),\n",
       " ('\\\\x06c63f873f400000c01beeb3', {}),\n",
       " ('\\\\x06c63f8745800000c01beec1', {}),\n",
       " ('\\\\x06c63fb402c00000c01c0ca9', {}),\n",
       " ('\\\\x06c63fa335400000c01c02a6', {}),\n",
       " ('\\\\x06c63fb148400000c01c09b3', {}),\n",
       " ('\\\\x06c63fbe32c00000c01c1710', {}),\n",
       " ('\\\\x06c63fd360c00000c01c2594', {}),\n",
       " ('\\\\x06c63fb786800000c01c100b', {}),\n",
       " ('\\\\x06c63fbd42c00000c01c160e', {}),\n",
       " ('\\\\x06c63fc6d1400000c01c1823', {}),\n",
       " ('\\\\x06c63fde38400000c01c281b', {}),\n",
       " ('\\\\x06c63fc6d3400000c01c182a', {}),\n",
       " ('\\\\x06c63fc910800000c01c1a85', {}),\n",
       " ('\\\\x06c63fcb15c00000c01c1c94', {}),\n",
       " ('\\\\x06c63fd20ac00000c01c2424', {}),\n",
       " ('\\\\x06c63fbcd8800000c01c15a5', {}),\n",
       " ('\\\\x06c63fbda8400000c01c167b', {}),\n",
       " ('\\\\x06c63fbda8000000c01c1679', {}),\n",
       " ('\\\\x06c63fd266400000c01c2489', {}),\n",
       " ('\\\\x06c63fd26c000000c01c2498', {}),\n",
       " ('\\\\x06c63fdd73400000c01c274f', {}),\n",
       " ('\\\\x06c63fd1d6400000c01c23e8', {}),\n",
       " ('\\\\x06c63fe142400000c01c2b3c', {}),\n",
       " ('\\\\x06c63fe61ac00000c01c3045', {}),\n",
       " ('\\\\x06c63fbae3400000c01c138e', {}),\n",
       " ('\\\\x06c63fbac5400000c01c1369', {}),\n",
       " ('\\\\x06c63fc836000000c01c19a5', {}),\n",
       " ('\\\\x06c63fc971800000c01c1af9', {}),\n",
       " ('\\\\x06c63fe477c00000c01c2e74', {}),\n",
       " ('\\\\x06c63fcbdb000000c01c1d64', {}),\n",
       " ('\\\\x06c63fd03cc00000c01c2218', {}),\n",
       " ('\\\\x06c63fd2f9400000c01c2517', {}),\n",
       " ('\\\\x06c63fde8ec00000c01c2875', {}),\n",
       " ('\\\\x06c63fe09d400000c01c2a85', {}),\n",
       " ('\\\\x06c63fcb31000000c01c1cb6', {}),\n",
       " ('\\\\x06c63fcbdd400000c01c1d6b', {}),\n",
       " ('\\\\x06c63fd120400000c01c22ed', {}),\n",
       " ('\\\\x06c63fd1ce000000c01c23d1', {}),\n",
       " ('\\\\x06c63fd2f1400000c01c250c', {}),\n",
       " ('\\\\x06c63fdce7000000c01c26b9', {}),\n",
       " ('\\\\x06c63fdfedc00000c01c29df', {}),\n",
       " ('\\\\x06c63fe719000000c01c315d', {}),\n",
       " ('\\\\x06c63fe9de400000c01c3437', {}),\n",
       " ('\\\\x06c63fea08400000c01c3473', {}),\n",
       " ('\\\\x06c63ff88b000000c01c3ae9', {}),\n",
       " ('\\\\x06c6402663800000c01c59ff', {}),\n",
       " ('\\\\x06c63ff735400000c01c3983', {}),\n",
       " ('\\\\x06c6400da9c00000c01c48a7', {}),\n",
       " ('\\\\x06c6402591400000c01c5916', {}),\n",
       " ('\\\\x06c63fea69400000c01c34e8', {}),\n",
       " ('\\\\x06c640250a000000c01c5885', {}),\n",
       " ('\\\\x06c64008f3400000c01c4376', {}),\n",
       " ('\\\\x06c6400fd1000000c01c4a7f', {}),\n",
       " ('\\\\x06c6401edd400000c01c5215', {}),\n",
       " ('\\\\x06c6402a3c400000c01c5e1d', {}),\n",
       " ('\\\\x06c63ff464000000c01c36c6', {}),\n",
       " ('\\\\x06c64029c7400000c01c5da7', {}),\n",
       " ('\\\\x06c6402af3400000c01c5ed7', {}),\n",
       " ('\\\\x06c6400a22800000c01c44dd', {}),\n",
       " ('\\\\x06c64011ea400000c01c4ce1', {}),\n",
       " ('\\\\x06c63fea2c800000c01c349d', {}),\n",
       " ('\\\\x06c63ff942400000c01c3b6d', {}),\n",
       " ('\\\\x06c63fff48800000c01c41ed', {}),\n",
       " ('\\\\x06c640279e400000c01c5b61', {}),\n",
       " ('\\\\x06c63ff5de000000c01c3810', {}),\n",
       " ('\\\\x06c63ff887000000c01c3ae6', {}),\n",
       " ('\\\\x06c64009f4400000c01c44bb', {}),\n",
       " ('\\\\x06c6401044400000c01c4b00', {}),\n",
       " ('\\\\x06c64011e0800000c01c4cd0', {}),\n",
       " ('\\\\x06c64015c0c00000c01c50dd', {}),\n",
       " ('\\\\x06c63fff4e400000c01c41f5', {}),\n",
       " ('\\\\x06c64024f6c00000c01c5873', {}),\n",
       " ('\\\\x06c6403790000000c01c613e', {}),\n",
       " ('\\\\x06c6402408c00000c01c57be', {}),\n",
       " ('\\\\x06c6402599c00000c01c5919', {}),\n",
       " ('\\\\x06c6404090800000c01c69f2', {}),\n",
       " ('\\\\x06c6403828400000c01c61c5', {}),\n",
       " ('\\\\x06c6404280400000c01c6bf3', {}),\n",
       " ('\\\\x06c6405451800000c01c7651', {}),\n",
       " ('\\\\x06c6405887400000c01c7ae2', {}),\n",
       " ('\\\\x06c64059e0000000c01c7c74', {}),\n",
       " ('\\\\x06c640398f800000c01c6335', {}),\n",
       " ('\\\\x06c6405959000000c01c7bd8', {}),\n",
       " ('\\\\x06c6404083c00000c01c69dd', {}),\n",
       " ('\\\\x06c6404318c00000c01c6cb2', {}),\n",
       " ('\\\\x06c6405419400000c01c7607', {}),\n",
       " ('\\\\x06c6405a6fc00000c01c7d08', {}),\n",
       " ('\\\\x06c640369b800000c01c607d', {}),\n",
       " ('\\\\x06c6403c66c00000c01c6629', {}),\n",
       " ('\\\\x06c640542c400000c01c7626', {}),\n",
       " ('\\\\x06c640568b000000c01c78af', {}),\n",
       " ('\\\\x06c64050dec00000c01c733f', {}),\n",
       " ('\\\\x06c6403d2ac00000c01c670e', {}),\n",
       " ('\\\\x06c6405210800000c01c747a', {}),\n",
       " ('\\\\x06c64041c5400000c01c6b32', {}),\n",
       " ('\\\\x06c6404f2c000000c01c7163', {}),\n",
       " ('\\\\x06c6404fa9000000c01c71f5', {}),\n",
       " ('\\\\x06c640542c800000c01c7629', {}),\n",
       " ('\\\\x06c6403c55c00000c01c6615', {}),\n",
       " ('\\\\x06c64059c8400000c01c7c43', {}),\n",
       " ('\\\\x06c6405a71000000c01c7d09', {}),\n",
       " ('\\\\x06c640555d800000c01c7766', {}),\n",
       " ('\\\\x06c6407ce6400000c01c8f4f', {}),\n",
       " ('\\\\x06c6406566800000c01c7f62', {}),\n",
       " ('\\\\x06c6406a18800000c01c8361', {}),\n",
       " ('\\\\x06c640801e000000c01c9259', {}),\n",
       " ('\\\\x06c64083a8400000c01c961a', {}),\n",
       " ('\\\\x06c64091ca400000c01c9ce6', {}),\n",
       " ('\\\\x06c6409c2e000000c01ca76b', {}),\n",
       " ('\\\\x06c6407e18400000c01c9041', {}),\n",
       " ('\\\\x06c64093dd800000c01c9ee8', {}),\n",
       " ('\\\\x06c6409494c00000c01c9fa2', {}),\n",
       " ('\\\\x06c6406ff7800000c01c89d3', {}),\n",
       " ('\\\\x06c64087cf400000c01c9a30', {}),\n",
       " ('\\\\x06c64095e5c00000c01ca100', {}),\n",
       " ('\\\\x06c64098ce400000c01ca3e6', {}),\n",
       " ('\\\\x06c6406b88c00000c01c84f1', {}),\n",
       " ('\\\\x06c6407c6d800000c01c8ec2', {}),\n",
       " ('\\\\x06c6408686000000c01c98e5', {}),\n",
       " ('\\\\x06c64098c8000000c01ca3da', {}),\n",
       " ('\\\\x06c6409ac0800000c01ca610', {}),\n",
       " ('\\\\x06c640a9be400000c01caa87', {}),\n",
       " ('\\\\x06c6409679000000c01ca1b4', {}),\n",
       " ('\\\\x06c6406fb4400000c01c8979', {}),\n",
       " ('\\\\x06c64082f4400000c01c9568', {}),\n",
       " ('\\\\x06c640841f400000c01c96a1', {}),\n",
       " ('\\\\x06c64090e2800000c01c9c09', {}),\n",
       " ('\\\\x06c64095a6000000c01ca0c1', {}),\n",
       " ('\\\\x06c6409cc1400000c01ca7e9', {}),\n",
       " ('\\\\x06c6406bfc000000c01c857b', {}),\n",
       " ('\\\\x06c64092b5800000c01c9de6', {}),\n",
       " ('\\\\x06c6408718800000c01c9986', {}),\n",
       " ('\\\\x06c64087ca000000c01c9a25', {}),\n",
       " ('\\\\x06c6408858000000c01c9aac', {}),\n",
       " ('\\\\x06c640886c800000c01c9acc', {}),\n",
       " ('\\\\x06c6409aa5800000c01ca5e2', {}),\n",
       " ('\\\\x06c640656dc00000c01c7f74', {}),\n",
       " ('\\\\x06c6406b99800000c01c8504', {}),\n",
       " ('\\\\x06c6407000c00000c01c89e0', {}),\n",
       " ('\\\\x06c640a9be400000c01caa86', {}),\n",
       " ('\\\\x06c6406b81400000c01c84e4', {}),\n",
       " ('\\\\x06c6406fcd800000c01c89a3', {}),\n",
       " ('\\\\x06c640721ec00000c01c8bc2', {}),\n",
       " ('\\\\x06c6409199400000c01c9ca4', {}),\n",
       " ('\\\\x06c640ae80800000c01caec5', {}),\n",
       " ('\\\\x06c640afae400000c01caff9', {}),\n",
       " ('\\\\x06c6406fb9400000c01c8983', {}),\n",
       " ('\\\\x06c6407fd9800000c01c921e', {}),\n",
       " ('\\\\x06c6408043400000c01c9282', {}),\n",
       " ('\\\\x06c640a9ccc00000c01caa9a', {}),\n",
       " ('\\\\x06c640ab0d800000c01cabbf', {}),\n",
       " ('\\\\x06c640b34d400000c01cb319', {}),\n",
       " ('\\\\x06c640c7d4800000c01cbdaf', {}),\n",
       " ('\\\\x06c6409e96000000c01ca953', {}),\n",
       " ('\\\\x06c640c394000000c01cb97a', {}),\n",
       " ('\\\\x06c640c85a800000c01cbe4a', {}),\n",
       " ('\\\\x06c640cadec00000c01cc095', {}),\n",
       " ('\\\\x06c640cb1d800000c01cc0e1', {}),\n",
       " ('\\\\x06c640cbcf400000c01cc189', {}),\n",
       " ('\\\\x06c640aad4800000c01cab7e', {}),\n",
       " ('\\\\x06c640abb3c00000c01cac77', {}),\n",
       " ('\\\\x06c640c2c5c00000c01cb8c9', {}),\n",
       " ('\\\\x06c640cf96400000c01cc5ba', {}),\n",
       " ('\\\\x06c640b0c9800000c01cb0e4', {}),\n",
       " ('\\\\x06c640b7a0800000c01cb777', {}),\n",
       " ('\\\\x06c640cd35c00000c01cc304', {}),\n",
       " ('\\\\x06c640b03c000000c01cb058', {}),\n",
       " ('\\\\x06c640b755c00000c01cb71c', {}),\n",
       " ('\\\\x06c640c72b400000c01cbd00', {}),\n",
       " ('\\\\x06c640c8b0400000c01cbe9c', {}),\n",
       " ('\\\\x06c640caab800000c01cc058', {}),\n",
       " ('\\\\x06c640ca69400000c01cc051', {}),\n",
       " ('\\\\x06c640cd2b800000c01cc2fb', {}),\n",
       " ('\\\\x06c640b71d800000c01cb6f2', {}),\n",
       " ('\\\\x06c640c63a800000c01cbc1c', {}),\n",
       " ('\\\\x06c640cb18c00000c01cc0d2', {}),\n",
       " ('\\\\x06c640b1edc00000c01cb205', {}),\n",
       " ('\\\\x06c640c2b7400000c01cb8a7', {}),\n",
       " ('\\\\x06c640c5d1800000c01cbb9c', {}),\n",
       " ('\\\\x06c640c69e400000c01cbc66', {}),\n",
       " ('\\\\x06c640cf20c00000c01cc52e', {}),\n",
       " ('\\\\x06c640b6c7c00000c01cb67d', {}),\n",
       " ('\\\\x06c640c389400000c01cb964', {}),\n",
       " ('\\\\x06c640b62c800000c01cb5d8', {}),\n",
       " ('\\\\x06c640cac9400000c01cc076', {}),\n",
       " ('\\\\x06c640d9e6c00000c01cc776', {}),\n",
       " ('\\\\x06c640db89c00000c01cc8f5', {}),\n",
       " ('\\\\x06c640db90400000c01cc90c', {}),\n",
       " ('\\\\x06c640dc05400000c01cc97d', {}),\n",
       " ('\\\\x06c640dc22400000c01cc988', {}),\n",
       " ('\\\\x06c640fffbc00000c01ce3db', {}),\n",
       " ('\\\\x06c6411419400000c01cee23', {}),\n",
       " ('\\\\x06c64123df800000c01cf56d', {}),\n",
       " ('\\\\x06c640e7ad000000c01cd495', {}),\n",
       " ('\\\\x06c640f291000000c01cd84a', {}),\n",
       " ('\\\\x06c640f34d800000c01cd8ba', {}),\n",
       " ('\\\\x06c640f3a2400000c01cd8e5', {}),\n",
       " ('\\\\x06c640fbbe800000c01ce023', {}),\n",
       " ('\\\\x06c641181f800000c01cf1de', {}),\n",
       " ('\\\\x06c641216c800000c01cf352', {}),\n",
       " ('\\\\x06c640dc64800000c01cc9b2', {}),\n",
       " ('\\\\x06c640e340c00000c01cd03a', {}),\n",
       " ('\\\\x06c6410ef8400000c01ce990', {}),\n",
       " ('\\\\x06c640f28a400000c01cd83a', {}),\n",
       " ('\\\\x06c640f273c00000c01cd820', {}),\n",
       " ('\\\\x06c640f684400000c01cdbb3', {}),\n",
       " ('\\\\x06c640f846800000c01cdd32', {}),\n",
       " ('\\\\x06c6410ae6400000c01ce5d1', {}),\n",
       " ('\\\\x06c6412139400000c01cf32b', {}),\n",
       " ('\\\\x06c6412529400000c01cf661', {}),\n",
       " ('\\\\x06c640e2d9000000c01ccfd7', {}),\n",
       " ('\\\\x06c6410bdd400000c01ce693', {}),\n",
       " ('\\\\x06c640df57400000c01ccc67', {}),\n",
       " ('\\\\x06c640dffd400000c01ccd06', {}),\n",
       " ('\\\\x06c640f36e400000c01cd8d9', {}),\n",
       " ('\\\\x06c640ff43800000c01ce317', {}),\n",
       " ('\\\\x06c6410afb800000c01ce5fe', {}),\n",
       " ('\\\\x06c640e614800000c01cd336', {}),\n",
       " ('\\\\x06c6410aed400000c01ce5db', {}),\n",
       " ('\\\\x06c6411499800000c01cee9a', {}),\n",
       " ('\\\\x06c641216b000000c01cf34b', {}),\n",
       " ('\\\\x06c6412276c00000c01cf411', {}),\n",
       " ('\\\\x06c640f4a9800000c01cd9f6', {}),\n",
       " ('\\\\x06c6410a5a400000c01ce55a', {}),\n",
       " ('\\\\x06c6410c00400000c01ce6b1', {}),\n",
       " ('\\\\x06c6411276000000c01cecc1', {}),\n",
       " ('\\\\x06c640f109000000c01cd6bc', {}),\n",
       " ('\\\\x06c640fe8c400000c01ce2b3', {}),\n",
       " ('\\\\x06c641158f400000c01cef8d', {}),\n",
       " ('\\\\x06c64117f2000000c01cf1b7', {}),\n",
       " ('\\\\x06c640dce9c00000c01cca2b', {}),\n",
       " ('\\\\x06c640e471400000c01cd179', {}),\n",
       " ('\\\\x06c640e640c00000c01cd366', {}),\n",
       " ('\\\\x06c640ff22400000c01ce2fb', {}),\n",
       " ('\\\\x06c6410c14c00000c01ce6d1', {}),\n",
       " ('\\\\x06c6412525c00000c01cf657', {}),\n",
       " ('\\\\x06c641312d400000c01d011a', {}),\n",
       " ('\\\\x06c64146d2400000c01d0b70', {}),\n",
       " ('\\\\x06c6412410c00000c01cf599', {}),\n",
       " ('\\\\x06c64124c3400000c01cf648', {}),\n",
       " ('\\\\x06c6412e38400000c01cfe92', {}),\n",
       " ('\\\\x06c6412eeac00000c01cff07', {}),\n",
       " ('\\\\x06c6414526c00000c01d09fd', {}),\n",
       " ('\\\\x06c6412340400000c01cf4cc', {}),\n",
       " ('\\\\x06c6414213400000c01d07da', {}),\n",
       " ('\\\\x06c6414865400000c01d0cbf', {}),\n",
       " ('\\\\x06c641494a800000c01d0d64', {}),\n",
       " ('\\\\x06c6414bd4400000c01d0f87', {}),\n",
       " ('\\\\x06c64158b6c00000c01d1264', {}),\n",
       " ('\\\\x06c64125d7000000c01cf70d', {}),\n",
       " ('\\\\x06c6412674c00000c01cf7b8', {}),\n",
       " ('\\\\x06c6412941800000c01cfa42', {}),\n",
       " ('\\\\x06c6412cce000000c01cfd2f', {}),\n",
       " ('\\\\x06c6414010800000c01d0683', {}),\n",
       " ('\\\\x06c6414bdbc00000c01d0f94', {}),\n",
       " ('\\\\x06c6412fb7c00000c01cffd7', {}),\n",
       " ('\\\\x06c6413ffb800000c01d0664', {}),\n",
       " ('\\\\x06c6414456c00000c01d0983', {}),\n",
       " ('\\\\x06c6412891000000c01cf99a', {}),\n",
       " ('\\\\x06c64128da400000c01cf9e1', {}),\n",
       " ('\\\\x06c6412fb5000000c01cffcf', {}),\n",
       " ('\\\\x06c64145ea800000c01d0aba', {}),\n",
       " ('\\\\x06c641643fc00000c01d186f', {}),\n",
       " ('\\\\x06c641422dc00000c01d07f3', {}),\n",
       " ('\\\\x06c64148b7400000c01d0d0e', {}),\n",
       " ('\\\\x06c6414aad400000c01d0e85', {}),\n",
       " ('\\\\x06c6415e01800000c01d154f', {}),\n",
       " ('\\\\x06c6413f57800000c01d05da', {}),\n",
       " ('\\\\x06c641400e000000c01d0680', {}),\n",
       " ('\\\\x06c641468f800000c01d0b31', {}),\n",
       " ('\\\\x06c64156b6400000c01d1194', {}),\n",
       " ('\\\\x06c64157f6c00000c01d1235', {}),\n",
       " ('\\\\x06c64163da800000c01d1847', {}),\n",
       " ('\\\\x06c6413039000000c01d0066', {}),\n",
       " ('\\\\x06c6414433400000c01d0941', {}),\n",
       " ('\\\\x06c64130ef400000c01d00e8', {}),\n",
       " ('\\\\x06c6414760000000c01d0bf9', {}),\n",
       " ('\\\\x06c6415945000000c01d12df', {}),\n",
       " ('\\\\x06c641655ac00000c01d18f0', {}),\n",
       " ('\\\\x06c6416579800000c01d1913', {}),\n",
       " ('\\\\x06c64167dd400000c01d1a63', {}),\n",
       " ('\\\\x06c6416fa6800000c01d1e13', {}),\n",
       " ('\\\\x06c6418a39400000c01d23e6', {}),\n",
       " ('\\\\x06c6419bd2000000c01d2946', {}),\n",
       " ('\\\\x06c6419dcc000000c01d29e4', {}),\n",
       " ('\\\\x06c641e8e2400000c01d3cd1', {}),\n",
       " ('\\\\x06c641e8e5400000c01d3cd5', {}),\n",
       " ('\\\\x06c6416cbac00000c01d1ca2', {}),\n",
       " ('\\\\x06c641993a400000c01d2877', {}),\n",
       " ('\\\\x06c641a410000000c01d2bdf', {}),\n",
       " ('\\\\x06c641b7ea000000c01d2fa5', {}),\n",
       " ('\\\\x06c641b9f7000000c01d3050', {}),\n",
       " ('\\\\x06c641de55800000c01d3b8f', {}),\n",
       " ('\\\\x06c641e01d400000c01d3c1e', {}),\n",
       " ('\\\\x06c641fe04400000c01d434e', {}),\n",
       " ('\\\\x06c6420f38400000c01d48bd', {}),\n",
       " ('\\\\x06c6416ed3800000c01d1d9e', {}),\n",
       " ('\\\\x06c6418d07000000c01d24b8', {}),\n",
       " ('\\\\x06c641948d400000c01d26f5', {}),\n",
       " ('\\\\x06c6419d63000000c01d29c6', {}),\n",
       " ('\\\\x06c641b2d1000000c01d2e41', {}),\n",
       " ('\\\\x06c641b56e800000c01d2efc', {}),\n",
       " ('\\\\x06c641b99a800000c01d303a', {}),\n",
       " ('\\\\x06c641bd18000000c01d3154', {}),\n",
       " ('\\\\x06c641d28bc00000c01d380d', {}),\n",
       " ('\\\\x06c6420384000000c01d4507', {}),\n",
       " ('\\\\x06c6420590800000c01d4598', {}),\n",
       " ('\\\\x06c641a2ce800000c01d2b6d', {}),\n",
       " ('\\\\x06c641f539000000c01d40ab', {}),\n",
       " ('\\\\x06c6420318800000c01d44d3', {}),\n",
       " ('\\\\x06c6418fe7800000c01d257e', {}),\n",
       " ('\\\\x06c641b2d0400000c01d2e3d', {}),\n",
       " ('\\\\x06c642059e400000c01d45a7', {}),\n",
       " ('\\\\x06c64194ac800000c01d2712', {}),\n",
       " ('\\\\x06c64199adc00000c01d289a', {}),\n",
       " ('\\\\x06c641b553000000c01d2edd', {}),\n",
       " ('\\\\x06c641e8ec400000c01d3ceb', {}),\n",
       " ('\\\\x06c641f245000000c01d3fa7', {}),\n",
       " ('\\\\x06c6416b25000000c01d1c05', {}),\n",
       " ('\\\\x06c6416fa6800000c01d1e12', {}),\n",
       " ('\\\\x06c64170dc400000c01d1eb8', {}),\n",
       " ('\\\\x06c6417d5ac00000c01d205b', {}),\n",
       " ('\\\\x06c6418315400000c01d21e8', {}),\n",
       " ('\\\\x06c6418aff000000c01d2428', {}),\n",
       " ('\\\\x06c64196cfc00000c01d27ab', {}),\n",
       " ('\\\\x06c6419dd0400000c01d29e8', {}),\n",
       " ('\\\\x06c641bf49400000c01d31f2', {}),\n",
       " ('\\\\x06c641c714400000c01d343c', {}),\n",
       " ('\\\\x06c641de47400000c01d3b84', {}),\n",
       " ('\\\\x06c641ed31c00000c01d3e22', {}),\n",
       " ('\\\\x06c641f4c6800000c01d4073', {}),\n",
       " ('\\\\x06c6417b45c00000c01d1f9f', {}),\n",
       " ('\\\\x06c6418320800000c01d21f4', {}),\n",
       " ('\\\\x06c641bf24000000c01d31dd', {}),\n",
       " ('\\\\x06c641c481400000c01d335f', {}),\n",
       " ('\\\\x06c641cb65c00000c01d35af', {}),\n",
       " ('\\\\x06c641d35b000000c01d3851', {}),\n",
       " ('\\\\x06c641f317c00000c01d3ff3', {}),\n",
       " ('\\\\x06c6420590c00000c01d459b', {}),\n",
       " ('\\\\x06c6421106800000c01d4951', {}),\n",
       " ('\\\\x06c642160e800000c01d4aff', {}),\n",
       " ('\\\\x06c6420591400000c01d459c', {}),\n",
       " ('\\\\x06c64210af400000c01d4946', {}),\n",
       " ('\\\\x06c64215bf000000c01d4aeb', {}),\n",
       " ('\\\\x06c64225f3400000c01d4cf6', {}),\n",
       " ('\\\\x06c642037c800000c01d44f5', {}),\n",
       " ('\\\\x06c6421090800000c01d4930', {}),\n",
       " ('\\\\x06c6421182400000c01d4981', {}),\n",
       " ('\\\\x06c642132cc00000c01d4a0b', {}),\n",
       " ('\\\\x06c6422359800000c01d4c18', {}),\n",
       " ('\\\\x06c6423811000000c01d5229', {}),\n",
       " ('\\\\x06c642640c400000c01d5c87', {}),\n",
       " ('\\\\x06c6420cdf400000c01d4809', {}),\n",
       " ('\\\\x06c64211e0400000c01d49a1', {}),\n",
       " ('\\\\x06c64213e1000000c01d4a32', {}),\n",
       " ('\\\\x06c64263b4400000c01d5c6c', {}),\n",
       " ('\\\\x06c64264aa400000c01d5cd0', {}),\n",
       " ('\\\\x06c6426f35000000c01d6024', {}),\n",
       " ('\\\\x06c6427291400000c01d6111', {}),\n",
       " ('\\\\x06c6428b1e000000c01d6896', {}),\n",
       " ('\\\\x06c6420741000000c01d463a', {}),\n",
       " ('\\\\x06c64213dd800000c01d4a2f', {}),\n",
       " ('\\\\x06c64225f6000000c01d4cf8', {}),\n",
       " ('\\\\x06c6429743800000c01d6a0a', {}),\n",
       " ('\\\\x06c6421106c00000c01d4952', {}),\n",
       " ('\\\\x06c6427606800000c01d6237', {}),\n",
       " ('\\\\x06c6428138000000c01d658e', {}),\n",
       " ('\\\\x06c6428b60400000c01d689e', {}),\n",
       " ('\\\\x06c64245f8400000c01d5635', {}),\n",
       " ('\\\\x06c6420ab4800000c01d474e', {}),\n",
       " ('\\\\x06c6420c75800000c01d47d7', {}),\n",
       " ('\\\\x06c6420ef9c00000c01d48b6', {}),\n",
       " ('\\\\x06c642648b000000c01d5cbc', {}),\n",
       " ('\\\\x06c642700fc00000c01d6053', {}),\n",
       " ('\\\\x06c642878b800000c01d676b', {}),\n",
       " ('\\\\x06c642132c400000c01d4a0a', {}),\n",
       " ('\\\\x06c6421547800000c01d4ab1', {}),\n",
       " ('\\\\x06c6424b6a400000c01d578a', {}),\n",
       " ('\\\\x06c6425d75400000c01d5a47', {}),\n",
       " ('\\\\x06c64283a6400000c01d663f', {}),\n",
       " ('\\\\x06c64252c4c00000c01d59c1', {}),\n",
       " ('\\\\x06c64265e5400000c01d5d24', {}),\n",
       " ('\\\\x06c642a056400000c01d6cd5', {}),\n",
       " ('\\\\x06c642813d400000c01d6593', {}),\n",
       " ('\\\\x06c6426decc00000c01d5fb3', {}),\n",
       " ('\\\\x06c6426ebc800000c01d5ff7', {}),\n",
       " ('\\\\x06c642a147400000c01d6d43', {}),\n",
       " ('\\\\x06c642a76e000000c01d6f3d', {}),\n",
       " ('\\\\x06c642ac88000000c01d7096', {}),\n",
       " ('\\\\x06c642b064800000c01d71be', {}),\n",
       " ('\\\\x06c64315ca400000c01d8c30', {}),\n",
       " ('\\\\x06c643500d000000c01d9bbb', {}),\n",
       " ('\\\\x06c642d85d400000c01d7bfa', {}),\n",
       " ('\\\\x06c642da8a400000c01d7cab', {}),\n",
       " ('\\\\x06c642bd31400000c01d75c0', {}),\n",
       " ('\\\\x06c64354ca400000c01d9cfb', {}),\n",
       " ('\\\\x06c6430481400000c01d8715', {}),\n",
       " ('\\\\x06c64324c7000000c01d90d4', {}),\n",
       " ('\\\\x06c642b58fc00000c01d736f', {}),\n",
       " ('\\\\x06c642bf51400000c01d768b', {}),\n",
       " ('\\\\x06c642e027000000c01d7e4a', {}),\n",
       " ('\\\\x06c642e888400000c01d80f6', {}),\n",
       " ('\\\\x06c642f264c00000c01d83fb', {}),\n",
       " ('\\\\x06c642ce4d400000c01d78f1', {}),\n",
       " ('\\\\x06c642e6d3400000c01d806a', {}),\n",
       " ('\\\\x06c6431d13800000c01d8e9d', {}),\n",
       " ('\\\\x06c64329aa800000c01d9265', {}),\n",
       " ('\\\\x06c642bd36000000c01d75c8', {}),\n",
       " ('\\\\x06c6431a3c000000c01d8d97', {}),\n",
       " ('\\\\x06c6433f0bc00000c01d963e', {}),\n",
       " ('\\\\x06c642d07a400000c01d799a', {}),\n",
       " ('\\\\x06c642da9b000000c01d7ccc', {}),\n",
       " ('\\\\x06c642f4fd400000c01d84a9', {}),\n",
       " ('\\\\x06c642f570800000c01d84cd', {}),\n",
       " ('\\\\x06c6435539000000c01d9d31', {}),\n",
       " ('\\\\x06c6435f04c00000c01da021', {}),\n",
       " ('\\\\x06c6439e7c000000c01dafff', {}),\n",
       " ('\\\\x06c643a04e000000c01db0a8', {}),\n",
       " ('\\\\x06c643f2f0800000c01dc485', {}),\n",
       " ('\\\\x06c643656ec00000c01da23d', {}),\n",
       " ('\\\\x06c643bfb9400000c01db842', {}),\n",
       " ('\\\\x06c6439746800000c01dadbf', {}),\n",
       " ('\\\\x06c643a683000000c01db2c3', {}),\n",
       " ('\\\\x06c643f514400000c01dc520', {}),\n",
       " ('\\\\x06c6435c5bc00000c01d9f3f', {}),\n",
       " ('\\\\x06c6439c30400000c01daf28', {}),\n",
       " ('\\\\x06c643c6ebc00000c01dba9b', {}),\n",
       " ('\\\\x06c6437d77800000c01da60f', {}),\n",
       " ('\\\\x06c6438356800000c01da7d5', {}),\n",
       " ('\\\\x06c6438367000000c01da7e6', {}),\n",
       " ('\\\\x06c6438d16c00000c01daaa2', {}),\n",
       " ('\\\\x06c643a534000000c01db25f', {}),\n",
       " ('\\\\x06c643e1a2800000c01dc2a4', {}),\n",
       " ('\\\\x06c643975f000000c01dadd4', {}),\n",
       " ('\\\\x06c643b643c00000c01db550', {}),\n",
       " ('\\\\x06c6440176c00000c01dc90a', {}),\n",
       " ('\\\\x06c6438f6d400000c01dab8f', {}),\n",
       " ('\\\\x06c643950a000000c01dad08', {}),\n",
       " ('\\\\x06c643a0c3000000c01db0e0', {}),\n",
       " ('\\\\x06c643f2de400000c01dc45f', {}),\n",
       " ('\\\\x06c6440094c00000c01dc8c7', {}),\n",
       " ('\\\\x06c643835e800000c01da7db', {}),\n",
       " ('\\\\x06c6439c30800000c01daf29', {}),\n",
       " ('\\\\x06c64403b6400000c01dc9a9', {}),\n",
       " ('\\\\x06c64403cfc00000c01dc9b4', {}),\n",
       " ('\\\\x06c643ded9400000c01dc1e5', {}),\n",
       " ('\\\\x06c643870ec00000c01da8f0', {}),\n",
       " ('\\\\x06c6438a1a400000c01da9c9', {}),\n",
       " ('\\\\x06c643a2f5000000c01db1a0', {}),\n",
       " ('\\\\x06c643d036400000c01dbd77', {}),\n",
       " ('\\\\x06c643d055c00000c01dbd8c', {}),\n",
       " ('\\\\x06c643d271c00000c01dbe33', {}),\n",
       " ('\\\\x06c64400a3c00000c01dc8d5', {}),\n",
       " ('\\\\x06c643f943000000c01dc685', {}),\n",
       " ('\\\\x06c643fe50c00000c01dc81f', {}),\n",
       " ('\\\\x06c643ff2a800000c01dc84e', {}),\n",
       " ('\\\\x06c644008e000000c01dc8c2', {}),\n",
       " ('\\\\x06c6440954800000c01dcb65', {}),\n",
       " ('\\\\x06c6440db9400000c01dcca0', {}),\n",
       " ('\\\\x06c64410e6c00000c01dcda1', {}),\n",
       " ('\\\\x06c644198e400000c01dd046', {}),\n",
       " ('\\\\x06c6447fb2800000c01dea67', {}),\n",
       " ('\\\\x06c644932f000000c01df075', {}),\n",
       " ('\\\\x06c644a491c00000c01df381', {}),\n",
       " ('\\\\x06c6441784000000c01dcf9d', {}),\n",
       " ('\\\\x06c644916a400000c01defee', {}),\n",
       " ('\\\\x06c6443f5d400000c01dd99c', {}),\n",
       " ('\\\\x06c644939fc00000c01df097', {}),\n",
       " ('\\\\x06c644a48d400000c01df377', {}),\n",
       " ('\\\\x06c644a6df000000c01df442', {}),\n",
       " ('\\\\x06c644b021800000c01df75d', {}),\n",
       " ('\\\\x06c6443abb400000c01dd823', {}),\n",
       " ('\\\\x06c64466ee400000c01de2b4', {}),\n",
       " ('\\\\x06c6446744000000c01de2d6', {}),\n",
       " ('\\\\x06c6447799800000c01de7f5', {}),\n",
       " ('\\\\x06c64481fbc00000c01deb29', {}),\n",
       " ('\\\\x06c64483f9c00000c01debcf', {}),\n",
       " ('\\\\x06c644b70c400000c01df993', {}),\n",
       " ('\\\\x06c6441547000000c01dcee7', {}),\n",
       " ('\\\\x06c644673cc00000c01de2c7', {}),\n",
       " ('\\\\x06c6447f3b400000c01dea3b', {}),\n",
       " ('\\\\x06c64480a8c00000c01deacd', {}),\n",
       " ('\\\\x06c64491c9000000c01df000', {}),\n",
       " ('\\\\x06c644699bc00000c01de38e', {}),\n",
       " ('\\\\x06c644b014000000c01df741', {}),\n",
       " ('\\\\x06c644b640800000c01df95d', {}),\n",
       " ('\\\\x06c6441a6a000000c01dd06c', {}),\n",
       " ('\\\\x06c64430b2000000c01dd512', {}),\n",
       " ('\\\\x06c644583d000000c01de14b', {}),\n",
       " ('\\\\x06c6449eff400000c01df1e7', {}),\n",
       " ('\\\\x06c644c003800000c01dfc6c', {}),\n",
       " ('\\\\x06c6441bc1800000c01dd0ef', {}),\n",
       " ('\\\\x06c6444399000000c01ddb0c', {}),\n",
       " ('\\\\x06c6447fb0400000c01dea61', {}),\n",
       " ('\\\\x06c64487ffc00000c01ded23', {}),\n",
       " ('\\\\x06c644818b000000c01deafa', {}),\n",
       " ('\\\\x06c6448f01c00000c01def48', {}),\n",
       " ('\\\\x06c6449eed400000c01df1d4', {}),\n",
       " ('\\\\x06c644bb36c00000c01dfad1', {}),\n",
       " ('\\\\x06c644bc32800000c01dfb26', {}),\n",
       " ('\\\\x06c6441c3ec00000c01dd124', {}),\n",
       " ('\\\\x06c64469a0800000c01de39d', {}),\n",
       " ('\\\\x06c6447b19400000c01de8e1', {}),\n",
       " ('\\\\x06c644bc2ac00000c01dfb22', {}),\n",
       " ('\\\\x06c644c6d0800000c01dfe7a', {}),\n",
       " ('\\\\x06c644d6b2000000c01e0178', {}),\n",
       " ('\\\\x06c644effcc00000c01e08d6', {}),\n",
       " ('\\\\x06c644f59d400000c01e0a84', {}),\n",
       " ('\\\\x06c6450145400000c01e0dfb', {}),\n",
       " ('\\\\x06c6450da1000000c01e0fa1', {}),\n",
       " ('\\\\x06c6451076400000c01e1071', {}),\n",
       " ('\\\\x06c645107f400000c01e107c', {}),\n",
       " ('\\\\x06c644d641800000c01e0146', {}),\n",
       " ('\\\\x06c644e607800000c01e05b8', {}),\n",
       " ('\\\\x06c644f4ac400000c01e0a2c', {}),\n",
       " ('\\\\x06c64504a0800000c01e0f08', {}),\n",
       " ('\\\\x06c6451803c00000c01e12d9', {}),\n",
       " ('\\\\x06c6452667400000c01e1732', {}),\n",
       " ('\\\\x06c6453327800000c01e1b2e', {}),\n",
       " ('\\\\x06c6454cdc000000c01e208c', {}),\n",
       " ('\\\\x06c644e2cb400000c01e04fc', {}),\n",
       " ('\\\\x06c644e853400000c01e0666', {}),\n",
       " ('\\\\x06c644f2d3c00000c01e09ab', {}),\n",
       " ('\\\\x06c644f7ee400000c01e0b2a', {}),\n",
       " ('\\\\x06c6452d3f800000c01e198c', {}),\n",
       " ('\\\\x06c6455971000000c01e2423', {}),\n",
       " ('\\\\x06c644c8a4400000c01dff18', {}),\n",
       " ('\\\\x06c644e2d5c00000c01e0503', {}),\n",
       " ('\\\\x06c644effe800000c01e08dc', {}),\n",
       " ('\\\\x06c644f84a000000c01e0b48', {}),\n",
       " ('\\\\x06c644fab0000000c01e0bf0', {}),\n",
       " ('\\\\x06c6454809800000c01e1efb', {}),\n",
       " ('\\\\x06c6451a93400000c01e1379', {}),\n",
       " ('\\\\x06c64530e3400000c01e1a8e', {}),\n",
       " ('\\\\x06c64554bcc00000c01e22a5', {}),\n",
       " ('\\\\x06c645251ec00000c01e16e0', {}),\n",
       " ('\\\\x06c6453d82400000c01e1e54', {}),\n",
       " ('\\\\x06c645571c000000c01e2368', {}),\n",
       " ('\\\\x06c644d88e400000c01e020d', {}),\n",
       " ('\\\\x06c6452bc1000000c01e18fb', {}),\n",
       " ('\\\\x06c6454f30400000c01e2141', {}),\n",
       " ('\\\\x06c645613e000000c01e266e', {}),\n",
       " ('\\\\x06c644de26800000c01e03ac', {}),\n",
       " ('\\\\x06c644eb25400000c01e073a', {}),\n",
       " ('\\\\x06c6454f21400000c01e2132', {}),\n",
       " ('\\\\x06c6456191800000c01e268a', {}),\n",
       " ('\\\\x06c644f534800000c01e0a63', {}),\n",
       " ('\\\\x06c644fcab400000c01e0c91', {}),\n",
       " ('\\\\x06c6453596c00000c01e1bf8', {}),\n",
       " ('\\\\x06c6455edbc00000c01e25c6', {}),\n",
       " ('\\\\x06c6455c5ec00000c01e2520', {}),\n",
       " ('\\\\x06c64558f7800000c01e2405', {}),\n",
       " ('\\\\x06c6456422400000c01e274f', {}),\n",
       " ('\\\\x06c6453842c00000c01e1ccb', {}),\n",
       " ('\\\\x06c6455739c00000c01e2390', {}),\n",
       " ('\\\\x06c645664fc00000c01e27e1', {}),\n",
       " ('\\\\x06c6456659000000c01e27e4', {}),\n",
       " ('\\\\x06c6456b8d400000c01e296b', {}),\n",
       " ('\\\\x06c6456badc00000c01e2987', {}),\n",
       " ('\\\\x06c6457376000000c01e2bd6', {}),\n",
       " ('\\\\x06c6458562800000c01e2ec8', {}),\n",
       " ('\\\\x06c6458563000000c01e2ec9', {}),\n",
       " ('\\\\x06c6458a82000000c01e3038', {}),\n",
       " ('\\\\x06c6458efa000000c01e31a3', {}),\n",
       " ('\\\\x06c6458ef7400000c01e31a0', {}),\n",
       " ('\\\\x06c645ab01800000c01e3a32', {}),\n",
       " ('\\\\x06c645ad5b400000c01e3add', {}),\n",
       " ('\\\\x06c645e675400000c01e488e', {}),\n",
       " ('\\\\x06c645eb26c00000c01e49db', {}),\n",
       " ('\\\\x06c645750d800000c01e2c56', {}),\n",
       " ('\\\\x06c6458d59000000c01e311f', {}),\n",
       " ('\\\\x06c64599cf800000c01e34f1', {}),\n",
       " ('\\\\x06c645a334c00000c01e37d1', {}),\n",
       " ('\\\\x06c645a863800000c01e3964', {}),\n",
       " ('\\\\x06c645e18fc00000c01e4719', {}),\n",
       " ('\\\\x06c64594fcc00000c01e336f', {}),\n",
       " ('\\\\x06c645967e000000c01e33de', {}),\n",
       " ('\\\\x06c64582e5400000c01e2de7', {}),\n",
       " ('\\\\x06c64587a4000000c01e2f5e', {}),\n",
       " ('\\\\x06c64592a5000000c01e32b6', {}),\n",
       " ('\\\\x06c6459763800000c01e342d', {}),\n",
       " ('\\\\x06c645ad5f400000c01e3ae3', {}),\n",
       " ('\\\\x06c645ee7d400000c01e4ab5', {}),\n",
       " ('\\\\x06c645eef7000000c01e4ae0', {}),\n",
       " ('\\\\x06c645792f800000c01e2d4a', {}),\n",
       " ('\\\\x06c64587c5000000c01e2f90', {}),\n",
       " ('\\\\x06c6458a94000000c01e3046', {}),\n",
       " ('\\\\x06c6459486800000c01e3330', {}),\n",
       " ('\\\\x06c6459e02000000c01e363d', {}),\n",
       " ('\\\\x06c645a3a7400000c01e3800', {}),\n",
       " ('\\\\x06c645a7d8c00000c01e3945', {}),\n",
       " ('\\\\x06c645bf03400000c01e3d1d', {}),\n",
       " ('\\\\x06c64575e0000000c01e2c7f', {}),\n",
       " ('\\\\x06c6458d4cc00000c01e310f', {}),\n",
       " ('\\\\x06c64591c4c00000c01e328a', {}),\n",
       " ('\\\\x06c64594fec00000c01e3374', {}),\n",
       " ('\\\\x06c6459b2cc00000c01e354d', {}),\n",
       " ('\\\\x06c645aec3400000c01e3b6b', {}),\n",
       " ('\\\\x06c645eb3b400000c01e49e4', {}),\n",
       " ('\\\\x06c645eba6c00000c01e4a06', {}),\n",
       " ('\\\\x06c6459032c00000c01e3208', {}),\n",
       " ('\\\\x06c645a29d800000c01e379e', {}),\n",
       " ('\\\\x06c645bf18400000c01e3d2d', {}),\n",
       " ('\\\\x06c64582e2400000c01e2de2', {}),\n",
       " ('\\\\x06c6458cf3800000c01e30fb', {}),\n",
       " ('\\\\x06c64592a5c00000c01e32b8', {}),\n",
       " ('\\\\x06c645948c000000c01e3332', {}),\n",
       " ('\\\\x06c6459e73000000c01e365c', {}),\n",
       " ('\\\\x06c645a061c00000c01e36ee', {}),\n",
       " ('\\\\x06c645a39bc00000c01e37f9', {}),\n",
       " ('\\\\x06c645a38b000000c01e37e4', {}),\n",
       " ('\\\\x06c645e192800000c01e471f', {}),\n",
       " ('\\\\x06c645e3f2400000c01e47d4', {}),\n",
       " ('\\\\x06c64575f1400000c01e2c89', {}),\n",
       " ('\\\\x06c64587b1c00000c01e2f6d', {}),\n",
       " ('\\\\x06c64587c1000000c01e2f89', {}),\n",
       " ('\\\\x06c6459752400000c01e341a', {}),\n",
       " ('\\\\x06c6291c7a000000c0144318', {}),\n",
       " ('\\\\x06c8649d70800000c04e8f30', {}),\n",
       " ('\\\\x06c628d108c00000c0142c0c', {}),\n",
       " ('\\\\x06c6291979c00000c0144224', {}),\n",
       " ('\\\\x06c614a264000000c00ed495', {}),\n",
       " ('\\\\x06c86426ddc00000c04e0975', {}),\n",
       " ('\\\\x06c68dbbce400000c02a024e', {}),\n",
       " ('\\\\x06c615cc78800000c00f383d', {}),\n",
       " ('\\\\x06c6291b3d400000c01442c8', {}),\n",
       " ('\\\\x06c6292013400000c0144465', {}),\n",
       " ('\\\\x06c6291af2800000c01442b0', {}),\n",
       " ('\\\\x06c628d186c00000c0142c43', {}),\n",
       " ('\\\\x06c68cf839400000c029de51', {}),\n",
       " ('\\\\x06c62a9921c00000c014a8c4', {}),\n",
       " ('\\\\x06c68dc6e9400000c02a0600', {}),\n",
       " ('\\\\x06c862bcd6400000c04c7660', {}),\n",
       " ('\\\\x06c6294fc3800000c014512e', {}),\n",
       " ('\\\\x06c68db75c400000c02a00c9', {}),\n",
       " ('\\\\x06c628d07d400000c0142be4', {}),\n",
       " ('\\\\x06c628d853c00000c0142f39', {}),\n",
       " ('\\\\x06c62cf8cdc00000c01540ce', {}),\n",
       " ('\\\\x06c628d9b3000000c0142f9f', {}),\n",
       " ('\\\\x06c6291f33400000c0144419', {}),\n",
       " ('\\\\x06c864ff09c00000c04f0cd9', {}),\n",
       " ('\\\\x06c864ff82000000c04f0de6', {}),\n",
       " ('\\\\x06c628d5e6000000c0142e4a', {}),\n",
       " ('\\\\x06c628d927400000c0142f72', {}),\n",
       " ('\\\\x06c864fe0b800000c04f0abf', {}),\n",
       " ('\\\\x06c6291ca0000000c0144327', {}),\n",
       " ('\\\\x06c628338ac00000c0140568', {}),\n",
       " ('\\\\x06c690410ac00000c02a90a6', {}),\n",
       " ('\\\\x06c628da90c00000c0142fe0', {}),\n",
       " ('\\\\x06c628db0f000000c014300d', {}),\n",
       " ('\\\\x06c6291e5dc00000c01443c3', {}),\n",
       " ('\\\\x06c864fea8400000c04f0c1a', {}),\n",
       " ('\\\\x06c628d22a400000c0142c82', {}),\n",
       " ('\\\\x06c8650067000000c04f0faf', {}),\n",
       " ('\\\\x06c68dc2f3c00000c02a04ba', {}),\n",
       " ('\\\\x06c62918ac400000c01441d6', {}),\n",
       " ('\\\\x06c68e062c000000c02a14e2', {}),\n",
       " ('\\\\x06c6291d28800000c0144353', {}),\n",
       " ('\\\\x06c86333c3800000c04cf946', {}),\n",
       " ('\\\\x06c628d01c400000c0142bb5', {}),\n",
       " ('\\\\x06c628d09b400000c0142bea', {}),\n",
       " ('\\\\x06c68dbfcd400000c02a03da', {}),\n",
       " ('\\\\x06c68dc60ac00000c02a05a9', {}),\n",
       " ('\\\\x06c864fe9c400000c04f0bf3', {}),\n",
       " ('\\\\x06c864ff2a800000c04f0d16', {}),\n",
       " ('\\\\x06c68dbc68800000c02a02a3', {}),\n",
       " ('\\\\x06c6291706400000c0144136', {}),\n",
       " ('\\\\x06c865065b000000c04f16f6', {}),\n",
       " ('\\\\x06c865065cc00000c04f16fd', {}),\n",
       " ('\\\\x06c68dffdc000000c02a12e9', {}),\n",
       " ('\\\\x06c6293390800000c0144731', {}),\n",
       " ('\\\\x06c6293524800000c01447d8', {}),\n",
       " ('\\\\x06c6293a52000000c01449b3', {}),\n",
       " ('\\\\x06c6293f70800000c0144b3f', {}),\n",
       " ('\\\\x06c8651201400000c04f277a', {}),\n",
       " ('\\\\x06c68dbd9a000000c02a0325', {}),\n",
       " ('\\\\x06c628d4c8400000c0142dd6', {}),\n",
       " ('\\\\x06c628d7ab400000c0142ee5', {}),\n",
       " ('\\\\x06c628da7f400000c0142fd9', {}),\n",
       " ('\\\\x06c62dd4c3000000c015755c', {}),\n",
       " ('\\\\x06c629773c400000c0145a87', {}),\n",
       " ('\\\\x06c628fd46400000c0143813', {}),\n",
       " ('\\\\x06c62905c6400000c0143b27', {}),\n",
       " ('\\\\x06c6290feb000000c0143e91', {}),\n",
       " ('\\\\x06c62934b2c00000c01447af', {}),\n",
       " ('\\\\x06c6293501c00000c01447c4', {}),\n",
       " ('\\\\x06c6293949000000c0144945', {}),\n",
       " ('\\\\x06c6294077800000c0144ba3', {}),\n",
       " ('\\\\x06c68e328a800000c02a1df2', {}),\n",
       " ('\\\\x06c6294bc9000000c0144f8f', {}),\n",
       " ('\\\\x06c628d521c00000c0142dfb', {}),\n",
       " ('\\\\x06c628d49b000000c0142dbd', {}),\n",
       " ('\\\\x06c86500da800000c04f10b3', {}),\n",
       " ('\\\\x06c628d8fdc00000c0142f60', {}),\n",
       " ('\\\\x06c628db49400000c0143026', {}),\n",
       " ('\\\\x06c628dd8bc00000c014310d', {}),\n",
       " ('\\\\x06c68e40aec00000c02a2202', {}),\n",
       " ('\\\\x06c8650636800000c04f16a7', {}),\n",
       " ('\\\\x06c68e425a800000c02a227b', {}),\n",
       " ('\\\\x06c62c7c8a800000c0151f59', {}),\n",
       " ('\\\\x06c68df001c00000c02a0e4a', {}),\n",
       " ('\\\\x06c62906afc00000c0143b7f', {}),\n",
       " ('\\\\x06c6290db8c00000c0143dcb', {}),\n",
       " ('\\\\x06c62913c4800000c0143ff9', {}),\n",
       " ('\\\\x06c68e2250c00000c02a195c', {}),\n",
       " ('\\\\x06c62937c2400000c01448c2', {}),\n",
       " ('\\\\x06c864c21e000000c04eb7f9', {}),\n",
       " ('\\\\x06c6293b97800000c0144a17', {}),\n",
       " ('\\\\x06c68e32f6800000c02a1e0f', {}),\n",
       " ('\\\\x06c8650145000000c04f1191', {}),\n",
       " ('\\\\x06c628dad3c00000c0142ff2', {}),\n",
       " ('\\\\x06c8650217000000c04f1352', {}),\n",
       " ('\\\\x06c68e4154c00000c02a2226', {}),\n",
       " ('\\\\x06c68df170800000c02a0eb3', {}),\n",
       " ('\\\\x06c6290d7a400000c0143daf', {}),\n",
       " ('\\\\x06c68dfbf4000000c02a11dc', {}),\n",
       " ('\\\\x06c6294dfb400000c014507b', {}),\n",
       " ('\\\\x06c8650ee9c00000c04f2119', {}),\n",
       " ('\\\\x06c6293186000000c0144644', {}),\n",
       " ('\\\\x06c8650fe0c00000c04f234a', {}),\n",
       " ('\\\\x06c86510d2000000c04f2509', {}),\n",
       " ('\\\\x06c86512ea000000c04f2977', {}),\n",
       " ('\\\\x06c6294930c00000c0144ea6', {}),\n",
       " ('\\\\x06c629479ac00000c0144e16', {}),\n",
       " ('\\\\x06c6296a20400000c01455c9', {}),\n",
       " ('\\\\x06c86518e5400000c04f2d2e', {}),\n",
       " ('\\\\x06c6296bba000000c014566b', {}),\n",
       " ('\\\\x06c738f7d0400000c039aa1c', {}),\n",
       " ('\\\\x06c6295036c00000c0145167', {}),\n",
       " ('\\\\x06c6291154000000c0143f21', {}),\n",
       " ('\\\\x06c62914f7000000c014407b', {}),\n",
       " ('\\\\x06c626ea17400000c013b170', {}),\n",
       " ('\\\\x06c62932a0c00000c01446d2', {}),\n",
       " ('\\\\x06c6293335400000c0144720', {}),\n",
       " ('\\\\x06c62934ed400000c01447be', {}),\n",
       " ('\\\\x06c68e778a400000c02a26c3', {}),\n",
       " ('\\\\x06c68e79b4000000c02a2783', {}),\n",
       " ('\\\\x06c68e7b85c00000c02a2817', {}),\n",
       " ('\\\\x06c8651b8f800000c04f32c0', {}),\n",
       " ('\\\\x06c628fe4f800000c0143868', {}),\n",
       " ('\\\\x06c62915a9c00000c01440b3', {}),\n",
       " ('\\\\x06c62913ecc00000c014400d', {}),\n",
       " ('\\\\x06c6291561800000c0144099', {}),\n",
       " ('\\\\x06c6294e48400000c01450a0', {}),\n",
       " ('\\\\x06c68e27d5400000c02a1ae0', {}),\n",
       " ('\\\\x06c6293aca800000c01449dd', {}),\n",
       " ('\\\\x06c8651286400000c04f2882', {}),\n",
       " ('\\\\x06c6294b6bc00000c0144f72', {}),\n",
       " ('\\\\x06c68e3e48400000c02a2139', {}),\n",
       " ('\\\\x06c863de27800000c04db825', {}),\n",
       " ('\\\\x06c68e7837c00000c02a2709', {}),\n",
       " ('\\\\x06c6296e82800000c0145764', {}),\n",
       " ('\\\\x06c62971f1800000c01458a0', {}),\n",
       " ('\\\\x06c6297494000000c01459c1', {}),\n",
       " ('\\\\x06c6297715800000c0145a6e', {}),\n",
       " ('\\\\x06c68e823cc00000c02a2a46', {}),\n",
       " ('\\\\x06c6297aac000000c0145bdd', {}),\n",
       " ('\\\\x06c6297c34800000c0145c80', {}),\n",
       " ('\\\\x06c62917b3400000c0144180', {}),\n",
       " ('\\\\x06c8650618c00000c04f1649', {}),\n",
       " ('\\\\x06c62c4975c00000c0151370', {}),\n",
       " ('\\\\x06c62905e9400000c0143b35', {}),\n",
       " ('\\\\x06c68df46e000000c02a0f99', {}),\n",
       " ('\\\\x06c6290cfe000000c0143d7e', {}),\n",
       " ('\\\\x06c8650990000000c04f1da7', {}),\n",
       " ('\\\\x06c8650a01c00000c04f1eb1', {}),\n",
       " ('\\\\x06c6291318800000c0143fc0', {}),\n",
       " ('\\\\x06c6139e65400000c00e7567', {}),\n",
       " ('\\\\x06c68e237e400000c02a19a3', {}),\n",
       " ('\\\\x06c865104f800000c04f2403', {}),\n",
       " ('\\\\x06c62ee25a400000c015b617', {}),\n",
       " ('\\\\x06c68e3671800000c02a1f28', {}),\n",
       " ('\\\\x06c68e38e7000000c02a1fbd', {}),\n",
       " ('\\\\x06c62948d4800000c0144e79', {}),\n",
       " ('\\\\x06c68e3ada000000c02a2033', {}),\n",
       " ('\\\\x06c6294a93000000c0144f2e', {}),\n",
       " ('\\\\x06c629716e800000c014587e', {}),\n",
       " ('\\\\x06c6294fe2800000c0145145', {}),\n",
       " ('\\\\x06c8650713c00000c04f1852', {}),\n",
       " ('\\\\x06c62901d4000000c01439a6', {}),\n",
       " ('\\\\x06c68df30e400000c02a0f41', {}),\n",
       " ('\\\\x06c62933d7000000c014474e', {}),\n",
       " ('\\\\x06c62934cb800000c01447b7', {}),\n",
       " ('\\\\x06c62949d6400000c0144edc', {}),\n",
       " ('\\\\x06c6296b9a000000c014565e', {}),\n",
       " ('\\\\x06c8651998000000c04f2ea3', {}),\n",
       " ('\\\\x06c6296e10c00000c014574b', {}),\n",
       " ('\\\\x06c6297872800000c0145b24', {}),\n",
       " ('\\\\x06c6297bac400000c0145c57', {}),\n",
       " ('\\\\x06c8651c7a000000c04f34e4', {}),\n",
       " ('\\\\x06c6294f76000000c01450ff', {}),\n",
       " ('\\\\x06c61a57f7400000c010802c', {}),\n",
       " ('\\\\x06c8650658c00000c04f16f3', {}),\n",
       " ('\\\\x06c629006a800000c0143920', {}),\n",
       " ('\\\\x06c8650756000000c04f18e2', {}),\n",
       " ('\\\\x06c68e20d0c00000c02a1897', {}),\n",
       " ('\\\\x06c8650f24c00000c04f21b2', {}),\n",
       " ('\\\\x06c62939d0800000c014497a', {}),\n",
       " ('\\\\x06c6293a12c00000c0144997', {}),\n",
       " ('\\\\x06c68e3282000000c02a1dec', {}),\n",
       " ('\\\\x06c6297be7c00000c0145c6b', {}),\n",
       " ('\\\\x06c6297d8a400000c0145cf0', {}),\n",
       " ('\\\\x06c68e8df7800000c02a2de7', {}),\n",
       " ('\\\\x06c68e8e16400000c02a2df1', {}),\n",
       " ('\\\\x06c628fe01000000c014385b', {}),\n",
       " ('\\\\x06c62908f5000000c0143c0c', {}),\n",
       " ('\\\\x06c68df862c00000c02a10de', {}),\n",
       " ('\\\\x06c6290f4b400000c0143e4e', {}),\n",
       " ('\\\\x06c629331ec00000c0144711', {}),\n",
       " ('\\\\x06c6293cd3000000c0144a5b', {}),\n",
       " ('\\\\x06c629445a800000c0144cfc', {}),\n",
       " ('\\\\x06c62b6557400000c014dc17', {}),\n",
       " ('\\\\x06c60801b5000000c00a479a', {}),\n",
       " ('\\\\x06c629315a400000c0144625', {}),\n",
       " ('\\\\x06c6296be6000000c014567a', {}),\n",
       " ('\\\\x06c6296c46400000c01456a6', {}),\n",
       " ('\\\\x06c6259aeac00000c0135851', {}),\n",
       " ('\\\\x06c8651b74400000c04f3280', {}),\n",
       " ('\\\\x06c6297a14400000c0145ba8', {}),\n",
       " ('\\\\x06c6297b86000000c0145c3f', {}),\n",
       " ('\\\\x06c62982c7000000c0145ee9', {}),\n",
       " ('\\\\x06c6294d0e000000c0145029', {}),\n",
       " ('\\\\x06c68e76aac00000c02a266c', {}),\n",
       " ('\\\\x06c68e7c7a400000c02a2868', {}),\n",
       " ('\\\\x06c6297885000000c0145b33', {}),\n",
       " ('\\\\x06c6297b9cc00000c0145c4d', {}),\n",
       " ('\\\\x06c68e77b8400000c02a26dc', {}),\n",
       " ('\\\\x06c62970c0000000c0145849', {}),\n",
       " ('\\\\x06c62971f2000000c01458a1', {}),\n",
       " ('\\\\x06c629723ac00000c01458c9', {}),\n",
       " ('\\\\x06c68e7ed9800000c02a291d', {}),\n",
       " ('\\\\x06c62907d0800000c0143bc0', {}),\n",
       " ('\\\\x06c628734c000000c0141840', {}),\n",
       " ('\\\\x06c8651db0c00000c04f379b', {}),\n",
       " ('\\\\x06c68e7f3e800000c02a2944', {}),\n",
       " ('\\\\x06c6297768c00000c0145aa3', {}),\n",
       " ('\\\\x06c62978f5c00000c0145b52', {}),\n",
       " ('\\\\x06c68e8d6f400000c02a2d9e', {}),\n",
       " ('\\\\x06c8651d97400000c04f3758', {}),\n",
       " ('\\\\x06c6297757c00000c0145a90', {}),\n",
       " ('\\\\x06c62978d0400000c0145b43', {}),\n",
       " ('\\\\x06c8651bf7c00000c04f33b2', {}),\n",
       " ('\\\\x06c6297bc7400000c0145c5d', {}),\n",
       " ('\\\\x06c62d1b00800000c0154657', {}),\n",
       " ('\\\\x06c8651dac800000c04f3794', {}),\n",
       " ('\\\\x06c8651db4c00000c04f37a5', {}),\n",
       " ('\\\\x06c6292eaec00000c0144544', {}),\n",
       " ('\\\\x06c6296876000000c014552a', {}),\n",
       " ('\\\\x06c68e74d0400000c02a25df', {}),\n",
       " ('\\\\x06c629681e000000c014550e', {}),\n",
       " ('\\\\x06c6296826800000c0145513', {}),\n",
       " ('\\\\x06c629a165c00000c01465b2', {}),\n",
       " ('\\\\x06c68ead48800000c02a33a8', {}),\n",
       " ('\\\\x06c68eae7bc00000c02a340b', {}),\n",
       " ('\\\\x06c86521b9c00000c04f3a27', {}),\n",
       " ('\\\\x06c629a321400000c0146653', {}),\n",
       " ('\\\\x06c629a39e400000c014667e', {}),\n",
       " ('\\\\x06c629ad29c00000c01469e8', {}),\n",
       " ('\\\\x06c8652436800000c04f3f94', {}),\n",
       " ('\\\\x06c629b1fec00000c0146bbc', {}),\n",
       " ('\\\\x06c86524e7c00000c04f40d4', {}),\n",
       " ('\\\\x06c865261bc00000c04f434d', {}),\n",
       " ('\\\\x06c68e7095400000c02a246a', {}),\n",
       " ('\\\\x06c68e7294400000c02a2516', {}),\n",
       " ('\\\\x06c6299ee3400000c01464dc', {}),\n",
       " ('\\\\x06c629e20c800000c01477b1', {}),\n",
       " ('\\\\x06c629e642c00000c0147935', {}),\n",
       " ('\\\\x06c8652d1b000000c04f4b27', {}),\n",
       " ('\\\\x06c68e9e03000000c02a2f0f', {}),\n",
       " ('\\\\x06c62993d4000000c0146110', {}),\n",
       " ('\\\\x06c8652e46000000c04f4d9d', {}),\n",
       " ('\\\\x06c6299b9d800000c0146398', {}),\n",
       " ('\\\\x06c68ea8eb800000c02a3237', {}),\n",
       " ('\\\\x06c62a0f58800000c01486e6', {}),\n",
       " ('\\\\x06c62a1055000000c014873b', {}),\n",
       " ('\\\\x06c68f25d9c00000c02a516e', {}),\n",
       " ('\\\\x06c629c862800000c0146e12', {}),\n",
       " ('\\\\x06c629d4d3c00000c0147284', {}),\n",
       " ('\\\\x06c865376fc00000c04f5ae4', {}),\n",
       " ('\\\\x06c629a754c00000c01467fa', {}),\n",
       " ('\\\\x06c629a7cd400000c014682a', {}),\n",
       " ('\\\\x06c629a811c00000c014683b', {}),\n",
       " ('\\\\x06c68ec2bd000000c02a3973', {}),\n",
       " ('\\\\x06c8652537000000c04f4170', {}),\n",
       " ('\\\\x06c8652563c00000c04f41d0', {}),\n",
       " ('\\\\x06c86525a2800000c04f4265', {}),\n",
       " ('\\\\x06c86525d5c00000c04f42bc', {}),\n",
       " ('\\\\x06c68eab56c00000c02a3315', {}),\n",
       " ('\\\\x06c68eed7f000000c02a41e3', {}),\n",
       " ('\\\\x06c8652b71400000c04f4804', {}),\n",
       " ('\\\\x06c629e284000000c01477da', {}),\n",
       " ('\\\\x06c629e1f4400000c01477a2', {}),\n",
       " ('\\\\x06c629e435800000c014786c', {}),\n",
       " ('\\\\x06c8652d04000000c04f4af0', {}),\n",
       " ('\\\\x06c8642d57800000c04e0fbb', {}),\n",
       " ('\\\\x06c629941e000000c014612b', {}),\n",
       " ('\\\\x06c6299452400000c0146153', {}),\n",
       " ('\\\\x06c8652e98000000c04f4e47', {}),\n",
       " ('\\\\x06c629db1b800000c01474e9', {}),\n",
       " ('\\\\x06c62a1301800000c0148823', {}),\n",
       " ('\\\\x06c62a1407400000c0148880', {}),\n",
       " ('\\\\x06c62a14d2400000c01488d2', {}),\n",
       " ('\\\\x06c8653451000000c04f5425', {}),\n",
       " ('\\\\x06c6895bb4800000c0291bb6', {}),\n",
       " ('\\\\x06c6296523400000c0145425', {}),\n",
       " ('\\\\x06c62966bcc00000c014548d', {}),\n",
       " ('\\\\x06c629e5f1c00000c01478f7', {}),\n",
       " ('\\\\x06c61cf089400000c0111d14', {}),\n",
       " ('\\\\x06c8652cc6000000c04f4a90', {}),\n",
       " ('\\\\x06c6244a12800000c012f8bd', {}),\n",
       " ('\\\\x06c8652d4ac00000c04f4b83', {}),\n",
       " ('\\\\x06c693be94000000c02b493a', {}),\n",
       " ('\\\\x06c629932d000000c01460d8', {}),\n",
       " ('\\\\x06c6299a28c00000c014633b', {}),\n",
       " ('\\\\x06c62a116cc00000c01487b6', {}),\n",
       " ('\\\\x06c62a1432800000c014889f', {}),\n",
       " ('\\\\x06c629cafdc00000c0146f17', {}),\n",
       " ('\\\\x06c629ccaf400000c0146fba', {}),\n",
       " ('\\\\x06c629d1ab800000c014715a', {}),\n",
       " ('\\\\x06c629d541c00000c0147298', {}),\n",
       " ('\\\\x06c629d636000000c01472e8', {}),\n",
       " ('\\\\x06c629d79f800000c0147378', {}),\n",
       " ...]"
      ]
     },
     "execution_count": 772,
     "metadata": {},
     "output_type": "execute_result"
    }
   ],
   "source": [
    "G.add_edges_from(list(k.items()))\n",
    "\n",
    "G.nodes(data=True)\n",
    "G.node['\\\\x06c63848c7800000c01734ff']['attribute']='value'\n",
    "G.nodes(data=True)"
   ]
  },
  {
   "cell_type": "code",
   "execution_count": 774,
   "metadata": {},
   "outputs": [
    {
     "name": "stdout",
     "output_type": "stream",
     "text": [
      "Use Gephi and create graph network\n"
     ]
    }
   ],
   "source": [
    "nx.write_graphml(G,'newjobuser-network.graphml')\n",
    "print(\"Use Gephi and create graph network\")"
   ]
  },
  {
   "cell_type": "markdown",
   "metadata": {},
   "source": [
    "Image 1 and Image 2 are attached on the email\n",
    "\n",
    "Image 1 shows- cluster of users linked to a single job post. This is a proof of the further intuitions below that show each user applied to very few jobs and hence their count distribution was skewed.\n",
    "\n",
    "Image 2 shows- The various blobs are titles and their associated candidates attached to them seen from a overall view of the graph"
   ]
  },
  {
   "cell_type": "markdown",
   "metadata": {},
   "source": [
    "# Method 1"
   ]
  },
  {
   "cell_type": "markdown",
   "metadata": {},
   "source": [
    "# # Word2Vec"
   ]
  },
  {
   "cell_type": "code",
   "execution_count": 71,
   "metadata": {},
   "outputs": [
    {
     "data": {
      "text/plain": [
       "Index(['company_uid', 'sent_date', 'source', 'title'], dtype='object')"
      ]
     },
     "execution_count": 71,
     "metadata": {},
     "output_type": "execute_result"
    }
   ],
   "source": [
    "data.columns"
   ]
  },
  {
   "cell_type": "code",
   "execution_count": 74,
   "metadata": {},
   "outputs": [],
   "source": [
    "titledata = data.reset_index()"
   ]
  },
  {
   "cell_type": "code",
   "execution_count": 78,
   "metadata": {},
   "outputs": [],
   "source": [
    "#Title mining\n",
    "titledata = titledata.groupby('applicant_uid')['title'].apply(list)\n",
    "titledata= pd.DataFrame(titledata)\n",
    "\n",
    "title_mining= data.join(titledata,how='inner',lsuffix='_Individual', rsuffix='_Concat')\n"
   ]
  },
  {
   "cell_type": "code",
   "execution_count": 80,
   "metadata": {},
   "outputs": [],
   "source": [
    "title_mining.columns\n"
   ]
  },
  {
   "cell_type": "code",
   "execution_count": 775,
   "metadata": {},
   "outputs": [],
   "source": [
    "#Title Corpus\n",
    "values = title_mining.reset_index()\n",
    "values= values['title_Concat']\n",
    "values= values.to_frame()\n",
    "values = list(values['title_Concat'])"
   ]
  },
  {
   "cell_type": "code",
   "execution_count": null,
   "metadata": {},
   "outputs": [],
   "source": []
  },
  {
   "cell_type": "code",
   "execution_count": 776,
   "metadata": {
    "collapsed": true
   },
   "outputs": [],
   "source": [
    "#Model\n",
    "model = gensim.models.Word2Vec(values, size=100, window=2, min_count=1, workers=4)"
   ]
  },
  {
   "cell_type": "code",
   "execution_count": 777,
   "metadata": {},
   "outputs": [
    {
     "data": {
      "text/plain": [
       "[('Technical Operations Engineer, China', 0.24572013318538666),\n",
       " ('Principle Architect', 0.22937633097171783),\n",
       " ('Sr. Manager, Engineering', 0.21690680086612701)]"
      ]
     },
     "execution_count": 777,
     "metadata": {},
     "output_type": "execute_result"
    }
   ],
   "source": [
    "model.wv.most_similar(['Analyst'],topn=3)\n"
   ]
  },
  {
   "cell_type": "code",
   "execution_count": null,
   "metadata": {
    "collapsed": true
   },
   "outputs": [],
   "source": []
  },
  {
   "cell_type": "code",
   "execution_count": null,
   "metadata": {},
   "outputs": [],
   "source": []
  },
  {
   "cell_type": "markdown",
   "metadata": {},
   "source": [
    "## Further exploration of data"
   ]
  },
  {
   "cell_type": "code",
   "execution_count": 153,
   "metadata": {
    "collapsed": true
   },
   "outputs": [],
   "source": [
    "job_title_count = len(pd.unique(data.title.ravel()))"
   ]
  },
  {
   "cell_type": "code",
   "execution_count": 155,
   "metadata": {
    "collapsed": true
   },
   "outputs": [],
   "source": [
    "user_count = len(pd.unique(data.index))"
   ]
  },
  {
   "cell_type": "code",
   "execution_count": 154,
   "metadata": {},
   "outputs": [
    {
     "name": "stdout",
     "output_type": "stream",
     "text": [
      "The number of unique jobs is 145\n"
     ]
    }
   ],
   "source": [
    "print(\"The number of unique jobs is {}\".format(job_title_count))"
   ]
  },
  {
   "cell_type": "code",
   "execution_count": 156,
   "metadata": {},
   "outputs": [
    {
     "name": "stdout",
     "output_type": "stream",
     "text": [
      "The number of users is 18492\n"
     ]
    }
   ],
   "source": [
    "print(\"The number of users is {}\".format(user_count))"
   ]
  },
  {
   "cell_type": "code",
   "execution_count": 157,
   "metadata": {
    "collapsed": true
   },
   "outputs": [],
   "source": [
    "#Sparsity level \n",
    "sparsity = round(1.0- len(data)/float(user_count*job_title_count),3)"
   ]
  },
  {
   "cell_type": "code",
   "execution_count": 158,
   "metadata": {},
   "outputs": [
    {
     "name": "stdout",
     "output_type": "stream",
     "text": [
      "The sparsity level of the dataset is 99.2 %\n"
     ]
    }
   ],
   "source": [
    "print( \"The sparsity level of the dataset is {} %\".format(sparsity*100))"
   ]
  },
  {
   "cell_type": "code",
   "execution_count": 227,
   "metadata": {
    "collapsed": true
   },
   "outputs": [],
   "source": [
    "data_processing = data.reset_index()"
   ]
  },
  {
   "cell_type": "code",
   "execution_count": 228,
   "metadata": {},
   "outputs": [
    {
     "data": {
      "text/plain": [
       "Index(['applicant_uid', 'company_uid', 'sent_date', 'source', 'title'], dtype='object')"
      ]
     },
     "execution_count": 228,
     "metadata": {},
     "output_type": "execute_result"
    }
   ],
   "source": [
    "data_processing.columns"
   ]
  },
  {
   "cell_type": "code",
   "execution_count": 780,
   "metadata": {},
   "outputs": [],
   "source": [
    "User_grouped= dataset_copy.groupby(['applicant_uid', 'title']).size()\n"
   ]
  },
  {
   "cell_type": "code",
   "execution_count": 781,
   "metadata": {},
   "outputs": [],
   "source": [
    "User_grouped= User_grouped.reset_index()"
   ]
  },
  {
   "cell_type": "code",
   "execution_count": 782,
   "metadata": {},
   "outputs": [],
   "source": [
    "User_grouped.columns= ['applicant_uid', 'title', 'score']"
   ]
  },
  {
   "cell_type": "code",
   "execution_count": 789,
   "metadata": {},
   "outputs": [
    {
     "data": {
      "image/png": "[encoded data removed]",
      "text/plain": [
       "<matplotlib.figure.Figure at 0x1dd9ad13ba8>"
      ]
     },
     "metadata": {},
     "output_type": "display_data"
    }
   ],
   "source": [
    "plt.hist(User_grouped['score'],bins=40, histtype = 'bar', facecolor = 'blue')\n",
    "plt.ylabel(\"Count\")\n",
    "plt.xlabel(\"Bin Number\")\n",
    "plt.title(\"Histogram\")\n",
    "plt.show()"
   ]
  },
  {
   "cell_type": "markdown",
   "metadata": {},
   "source": [
    "This proves our above graph data analysis that most users didnot apply to the same titled job post frequently. More data can better enhance our interpretability"
   ]
  },
  {
   "cell_type": "code",
   "execution_count": 785,
   "metadata": {},
   "outputs": [],
   "source": [
    "def wor2vecc(title):\n",
    "    #Scoring function for matrix factorisation\n",
    "    L= model.wv.most_similar([title],topn=1) \n",
    "    return L[0][1] * 10000"
   ]
  },
  {
   "cell_type": "code",
   "execution_count": 624,
   "metadata": {
    "collapsed": true
   },
   "outputs": [],
   "source": [
    "User_grouped['similarity']=0"
   ]
  },
  {
   "cell_type": "code",
   "execution_count": 625,
   "metadata": {},
   "outputs": [],
   "source": [
    "k={}\n",
    "for index,row in User_grouped.iterrows():\n",
    "    \n",
    "    k[index] = wor2vecc(row['title'])\n",
    "\n",
    "    "
   ]
  },
  {
   "cell_type": "code",
   "execution_count": 626,
   "metadata": {},
   "outputs": [],
   "source": [
    "simmatrix= pd.DataFrame(list(k.items()))  "
   ]
  },
  {
   "cell_type": "code",
   "execution_count": 627,
   "metadata": {},
   "outputs": [
    {
     "data": {
      "text/plain": [
       "RangeIndex(start=0, stop=20292, step=1)"
      ]
     },
     "execution_count": 627,
     "metadata": {},
     "output_type": "execute_result"
    }
   ],
   "source": [
    "simmatrix.index"
   ]
  },
  {
   "cell_type": "code",
   "execution_count": 631,
   "metadata": {},
   "outputs": [],
   "source": [
    "final_eval = User_grouped.join(simmatrix)"
   ]
  },
  {
   "cell_type": "code",
   "execution_count": 640,
   "metadata": {},
   "outputs": [],
   "source": [
    "final_eval= final_eval.drop([0],axis=1)"
   ]
  },
  {
   "cell_type": "code",
   "execution_count": 641,
   "metadata": {},
   "outputs": [],
   "source": [
    "final_eval.columns = ['applicant_uid', 'title', 'count', 'similarity', 'transsim'] "
   ]
  },
  {
   "cell_type": "code",
   "execution_count": 642,
   "metadata": {},
   "outputs": [
    {
     "data": {
      "text/plain": [
       "Index(['applicant_uid', 'title', 'count', 'similarity', 'transsim'], dtype='object')"
      ]
     },
     "execution_count": 642,
     "metadata": {},
     "output_type": "execute_result"
    }
   ],
   "source": [
    "final_eval.columns "
   ]
  },
  {
   "cell_type": "code",
   "execution_count": 643,
   "metadata": {},
   "outputs": [],
   "source": [
    "#DataFrame containing id, title and similairty\n",
    "final_eval= final_eval.drop(['similarity'],axis=1)"
   ]
  },
  {
   "cell_type": "code",
   "execution_count": null,
   "metadata": {},
   "outputs": [],
   "source": []
  },
  {
   "cell_type": "code",
   "execution_count": 790,
   "metadata": {},
   "outputs": [
    {
     "data": {
      "image/png": "[encoded data removed]",
      "text/plain": [
       "<matplotlib.figure.Figure at 0x1de194ba978>"
      ]
     },
     "metadata": {},
     "output_type": "display_data"
    }
   ],
   "source": [
    "plt.hist(np.log((final_eval['count'])*(final_eval['transsim'])),bins=40, histtype = 'bar', facecolor = 'blue')\n",
    "plt.ylabel(\"Scores\")\n",
    "plt.xlabel(\"Bin Number\")\n",
    "plt.title(\"Histogram\")\n",
    "plt.show()"
   ]
  },
  {
   "cell_type": "markdown",
   "metadata": {},
   "source": [
    "The sparseness and the close count of applications of same titled job posts and the word similarity between the titles is the reason for the above broken histogram. Increase in variance as we collect more data can help improve this. Applying necessary transformations can also help in normally distributing the count data. Log transformation is something that is usually applied along with this."
   ]
  },
  {
   "cell_type": "code",
   "execution_count": 722,
   "metadata": {},
   "outputs": [],
   "source": [
    "final_eval['score']=np.log((final_eval['count'])*(final_eval['transsim']))"
   ]
  },
  {
   "cell_type": "code",
   "execution_count": 723,
   "metadata": {},
   "outputs": [],
   "source": [
    "final_eval= final_eval.fillna(0)\n"
   ]
  },
  {
   "cell_type": "code",
   "execution_count": 724,
   "metadata": {
    "collapsed": true
   },
   "outputs": [],
   "source": [
    "#Create pivot table\n",
    "UAM = pd.pivot_table(final_eval, values= 'score', index='applicant_uid', columns= 'title')"
   ]
  },
  {
   "cell_type": "markdown",
   "metadata": {},
   "source": [
    "## ALS"
   ]
  },
  {
   "cell_type": "code",
   "execution_count": 727,
   "metadata": {
    "collapsed": true
   },
   "outputs": [],
   "source": [
    "#Create pivot table\n",
    "UAM = pd.pivot_table(final_eval, values= 'score', index='applicant_uid', columns= 'title',fill_value=0)"
   ]
  },
  {
   "cell_type": "markdown",
   "metadata": {},
   "source": [
    "ALS- ALternating Least Squares has been well known to work well with sparse data. The convergence of this method is quick and effecient and quite useful when dealing with sparse datasets"
   ]
  },
  {
   "cell_type": "code",
   "execution_count": 786,
   "metadata": {},
   "outputs": [],
   "source": [
    "f = 20 #latentfactors\n",
    "regLamba = 0.1 #regularisation parameter\n",
    "iters = 20 #iterations\n"
   ]
  },
  {
   "cell_type": "code",
   "execution_count": 787,
   "metadata": {
    "collapsed": true
   },
   "outputs": [],
   "source": [
    "def normaliseRow(x):\n",
    "    return x / sum(x)\n",
    "\n",
    "def initialiseMatrix(n, f):\n",
    "    A = abs(np.random.randn(n, f))\n",
    "    return np.apply_along_axis(normaliseRow, 1, A)"
   ]
  },
  {
   "cell_type": "code",
   "execution_count": 788,
   "metadata": {},
   "outputs": [],
   "source": [
    "n= job_title_count\n",
    "m= user_count"
   ]
  },
  {
   "cell_type": "code",
   "execution_count": null,
   "metadata": {
    "collapsed": true
   },
   "outputs": [],
   "source": []
  },
  {
   "cell_type": "code",
   "execution_count": 732,
   "metadata": {},
   "outputs": [],
   "source": [
    "# Initialise Y matrix, n x f\n",
    "Y = initialiseMatrix(n, f)\n",
    "# Initialise X matrix, m x f\n",
    "X = initialiseMatrix(m, f)\n",
    "\n"
   ]
  },
  {
   "cell_type": "code",
   "execution_count": 733,
   "metadata": {},
   "outputs": [],
   "source": [
    "UAM = UAM.fillna(0).as_matrix()\n",
    "UAM = UAM[0:m,0:n]"
   ]
  },
  {
   "cell_type": "code",
   "execution_count": 734,
   "metadata": {},
   "outputs": [],
   "source": [
    "def ratingsPred(X, Y):\n",
    "    return np.dot(X, Y.T)\n",
    "\n",
    "def MSE(ratingsPred, ratingsMatrix):\n",
    "    idx = ratingsMatrix > 0\n",
    "    return sum((ratingsPred[idx] - ratingsMatrix[idx]) ** 2) / np.count_nonzero(ratingsMatrix)\n",
    "    \n"
   ]
  },
  {
   "cell_type": "code",
   "execution_count": 735,
   "metadata": {},
   "outputs": [],
   "source": [
    "nonZero = UAM > 0\n",
    "reg = regLamba * np.eye(f,f)\n"
   ]
  },
  {
   "cell_type": "code",
   "execution_count": 736,
   "metadata": {},
   "outputs": [
    {
     "name": "stdout",
     "output_type": "stream",
     "text": [
      "MSE: 0.0643351602798\n",
      "MSE: 0.0579141853143\n",
      "MSE: 0.057882631344\n",
      "MSE: 0.0578709927482\n",
      "MSE: 0.0578633697371\n",
      "MSE: 0.0578576363636\n",
      "MSE: 0.0578529200815\n",
      "MSE: 0.0578488179363\n",
      "MSE: 0.0578451061914\n",
      "MSE: 0.0578416516733\n",
      "MSE: 0.0578383693387\n",
      "MSE: 0.0578352013867\n",
      "MSE: 0.0578321081017\n",
      "MSE: 0.0578290618576\n",
      "MSE: 0.0578260427802\n",
      "MSE: 0.0578230362747\n",
      "MSE: 0.0578200316823\n",
      "MSE: 0.0578170213719\n",
      "MSE: 0.0578140000354\n",
      "Done\n"
     ]
    }
   ],
   "source": [
    "for k in range(1, iters):\n",
    "    for i in range(1, m):\n",
    "        idx = nonZero[i,:]\n",
    "        a = Y[idx,]\n",
    "        b = np.dot(np.transpose(Y[idx,]), UAM[i, idx])\n",
    "        updateX = np.linalg.solve(np.dot(np.transpose(a), a) + reg, b)\n",
    "        X[i,] = updateX\n",
    "    \n",
    "    for j in range(1, n):\n",
    "        idx = nonZero[:,j]\n",
    "        a = X[idx,]\n",
    "        b = np.dot(np.transpose(X[idx,]), UAM[idx, j])\n",
    "        updateY = np.linalg.solve(np.dot(np.transpose(a), a) + reg, b)\n",
    "        Y[j,] = updateY\n",
    "        \n",
    "    ratingsP = ratingsPred(X, Y)\n",
    "    mse = MSE(ratingsP, UAM)\n",
    "    print(\"MSE: \" + str(mse))\n",
    "        \n",
    "print(\"Done\")"
   ]
  },
  {
   "cell_type": "code",
   "execution_count": 683,
   "metadata": {
    "collapsed": true
   },
   "outputs": [],
   "source": [
    "#Create pivot table\n",
    "UAM = pd.pivot_table(final_eval, values= 'score', index='applicant_uid', columns= 'title',fill_value=0)"
   ]
  },
  {
   "cell_type": "code",
   "execution_count": 742,
   "metadata": {},
   "outputs": [],
   "source": [
    "from sklearn.metrics.pairwise import pairwise_distances\n",
    "item_similarity = pairwise_distances(UAM.T, metric='cosine')\n",
    "user_similarity = pairwise_distances(UAM, metric='cosine')"
   ]
  },
  {
   "cell_type": "code",
   "execution_count": 738,
   "metadata": {},
   "outputs": [],
   "source": [
    "def predict(ratings, similarity, type='user'):\n",
    "    if type == 'user':\n",
    "        mean_user_rating = ratings.mean(axis=1)\n",
    "        #You use np.newaxis so that mean_user_rating has same format as ratings\n",
    "        ratings_diff = (ratings - mean_user_rating[:, np.newaxis]) \n",
    "        pred = mean_user_rating[:, np.newaxis] + similarity.dot(ratings_diff) / np.array([np.abs(similarity).sum(axis=1)]).T\n",
    "    elif type == 'item':\n",
    "        pred = ratings.dot(similarity) / np.array([np.abs(similarity).sum(axis=1)])     \n",
    "    return pred"
   ]
  },
  {
   "cell_type": "code",
   "execution_count": 743,
   "metadata": {
    "collapsed": true
   },
   "outputs": [],
   "source": [
    "item_prediction = predict(UAM, item_similarity, type='item')\n",
    "user_prediction= predict(UAM, user_similarity, type='user')"
   ]
  },
  {
   "cell_type": "code",
   "execution_count": 740,
   "metadata": {
    "collapsed": true
   },
   "outputs": [],
   "source": [
    "from sklearn.metrics import mean_squared_error\n",
    "from math import sqrt\n",
    "def rmse(prediction, ground_truth):\n",
    "    prediction = prediction[ground_truth.nonzero()].flatten() \n",
    "    ground_truth = ground_truth[ground_truth.nonzero()].flatten()\n",
    "    return sqrt(mean_squared_error(prediction, ground_truth))"
   ]
  },
  {
   "cell_type": "code",
   "execution_count": 744,
   "metadata": {},
   "outputs": [
    {
     "name": "stdout",
     "output_type": "stream",
     "text": [
      "Item-based CF RMSE: 9.107015985574906\n",
      "User-based CF RMSE: 9.087146419426938\n"
     ]
    }
   ],
   "source": [
    "print('Item-based CF RMSE: ' + str(rmse(item_prediction, UAM)))\n",
    "\n",
    "print('User-based CF RMSE: ' + str(rmse(user_prediction, UAM)))"
   ]
  },
  {
   "cell_type": "markdown",
   "metadata": {},
   "source": [
    "# Other ideas that could be tried"
   ]
  },
  {
   "cell_type": "markdown",
   "metadata": {},
   "source": [
    "Other Idea could be \n",
    "1. Using case based reasoningcan work well with the sparse and little data\n",
    "2. SGD can also be tried when the sparseness is considerably reduced with more data\n",
    "3. Hybrid recommendation systems can be used\n",
    "4. Usage of distributed systems like Hadoop , Spark and Lucene can help scale effeciently\n",
    "5. Browse maps is also one possible model that can help improve effeciency of our recommendation system"
   ]
  },
  {
   "cell_type": "code",
   "execution_count": null,
   "metadata": {
    "collapsed": true
   },
   "outputs": [],
   "source": []
  },
  {
   "cell_type": "code",
   "execution_count": null,
   "metadata": {},
   "outputs": [],
   "source": []
  },
  {
   "cell_type": "code",
   "execution_count": null,
   "metadata": {
    "collapsed": true
   },
   "outputs": [],
   "source": []
  },
  {
   "cell_type": "code",
   "execution_count": null,
   "metadata": {
    "collapsed": true
   },
   "outputs": [],
   "source": []
  },
  {
   "cell_type": "code",
   "execution_count": null,
   "metadata": {
    "collapsed": true
   },
   "outputs": [],
   "source": []
  }
 ],
 "metadata": {
  "kernelspec": {
   "display_name": "Python 3",
   "language": "python",
   "name": "python3"
  },
  "language_info": {
   "codemirror_mode": {
    "name": "ipython",
    "version": 3
   },
   "file_extension": ".py",
   "mimetype": "text/x-python",
   "name": "python",
   "nbconvert_exporter": "python",
   "pygments_lexer": "ipython3",
   "version": "3.6.1"
  }
 },
 "nbformat": 4,
 "nbformat_minor": 2
}
